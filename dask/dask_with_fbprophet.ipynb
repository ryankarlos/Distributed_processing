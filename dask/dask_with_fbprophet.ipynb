{
 "cells": [
  {
   "cell_type": "markdown",
   "metadata": {},
   "source": [
    "### Hyperparameter Tuning for Facebook Prophet in Parallel "
   ]
  },
  {
   "cell_type": "code",
   "execution_count": null,
   "metadata": {},
   "outputs": [],
   "source": [
    "import pandas as pd\n",
    "import numpy as np\n",
    "import pprint\n",
    "import fbprophet\n",
    "import plotly\n",
    "\n",
    "from fbprophet.plot import plot_plotly\n",
    "import plotly.offline as py\n",
    "py.init_notebook_mode()\n",
    "from fbprophet.diagnostics import cross_validation\n",
    "from fbprophet.diagnostics import performance_metrics\n",
    "\n",
    "from tqdm.autonotebook import tqdm\n",
    "import functools\n",
    "import dask\n",
    "from dask.distributed import Client\n",
    "from dask.distributed import get_client\n",
    "import dask.dataframe as dd\n",
    "from dask.diagnostics import ProgressBar\n",
    "from itertools import product, cycle\n",
    "import concurrent.futures\n",
    "import itertools\n",
    "# !pip install dask\n",
    "#!pip install graphviz"
   ]
  },
  {
   "cell_type": "code",
   "execution_count": 2,
   "metadata": {},
   "outputs": [
    {
     "data": {
      "text/html": [
       "<div>\n",
       "<style scoped>\n",
       "    .dataframe tbody tr th:only-of-type {\n",
       "        vertical-align: middle;\n",
       "    }\n",
       "\n",
       "    .dataframe tbody tr th {\n",
       "        vertical-align: top;\n",
       "    }\n",
       "\n",
       "    .dataframe thead th {\n",
       "        text-align: right;\n",
       "    }\n",
       "</style>\n",
       "<table border=\"1\" class=\"dataframe\">\n",
       "  <thead>\n",
       "    <tr style=\"text-align: right;\">\n",
       "      <th></th>\n",
       "      <th>ds</th>\n",
       "      <th>y</th>\n",
       "    </tr>\n",
       "  </thead>\n",
       "  <tbody>\n",
       "    <tr>\n",
       "      <th>0</th>\n",
       "      <td>2007-12-10</td>\n",
       "      <td>9.590761</td>\n",
       "    </tr>\n",
       "    <tr>\n",
       "      <th>1</th>\n",
       "      <td>2007-12-11</td>\n",
       "      <td>8.519590</td>\n",
       "    </tr>\n",
       "    <tr>\n",
       "      <th>2</th>\n",
       "      <td>2007-12-12</td>\n",
       "      <td>8.183677</td>\n",
       "    </tr>\n",
       "    <tr>\n",
       "      <th>3</th>\n",
       "      <td>2007-12-13</td>\n",
       "      <td>8.072467</td>\n",
       "    </tr>\n",
       "    <tr>\n",
       "      <th>4</th>\n",
       "      <td>2007-12-14</td>\n",
       "      <td>7.893572</td>\n",
       "    </tr>\n",
       "  </tbody>\n",
       "</table>\n",
       "</div>"
      ],
      "text/plain": [
       "           ds         y\n",
       "0  2007-12-10  9.590761\n",
       "1  2007-12-11  8.519590\n",
       "2  2007-12-12  8.183677\n",
       "3  2007-12-13  8.072467\n",
       "4  2007-12-14  7.893572"
      ]
     },
     "execution_count": 2,
     "metadata": {},
     "output_type": "execute_result"
    }
   ],
   "source": [
    "url = \"https://raw.githubusercontent.com/facebook/prophet/master/examples/example_wp_log_peyton_manning.csv\"\n",
    "df = pd.read_csv(url,  sep=',')\n",
    "df.head(5)"
   ]
  },
  {
   "cell_type": "code",
   "execution_count": null,
   "metadata": {},
   "outputs": [],
   "source": [
    "#algorithm ='Newton','LBFGS'\n",
    "\n",
    "m = fbprophet.Prophet()\n",
    "m.fit(df, algorithm='LBFGS')\n",
    "future = m.make_future_dataframe(periods=50)\n",
    "forecast = m.predict(future)\n",
    "m.plot(forecast);"
   ]
  },
  {
   "cell_type": "code",
   "execution_count": 17,
   "metadata": {},
   "outputs": [],
   "source": [
    "def single_param_cv(history_df, metrics, param_dict):\n",
    "    m = fbprophet.Prophet(**param_dict)\n",
    "    m.fit(history_df)\n",
    "    df_cv = cross_validation(m, initial='2600 days', period='100 days', horizon = '200 days')\n",
    "    df_p = performance_metrics(df_cv, rolling_window=1)\n",
    "    df_p['params'] = str(param_dict)\n",
    "    df_p = df_p.loc[:, metrics]\n",
    "    return df_p\n",
    "\n",
    "def param_grid_to_df(**param_dict):\n",
    "    param_iter = itertools.product(*param_dict.values())\n",
    "    params =[]\n",
    "    for param in param_iter:\n",
    "        params.append(param) \n",
    "    params_df = pd.DataFrame(params, columns=list(param_dict.keys()))\n",
    "    return params_df\n",
    "\n",
    "\n",
    "def hyperparameter_cv(history_df, params_df, single_cv_callable, pool):\n",
    "    results = []\n",
    "    for param in params_df.values:\n",
    "        param_dict = dict(zip(params_df.keys(), param))\n",
    "        if pool is None:\n",
    "            predict = single_cv_callable(history_df, param_dict=param_dict)\n",
    "            results.append(predict)\n",
    "        elif isinstance(pool, dask.distributed.client.Client):\n",
    "            remote_df = pool.scatter(history_df)\n",
    "            future = pool.submit(single_cv_callable, remote_df, param_dict=param_dict)\n",
    "            results.append(future)\n",
    "        else:\n",
    "            raise ValueError(f'Pool needs to be an instantiated dask distributed client object or None')\n",
    "    if isinstance(pool, dask.distributed.client.Client):\n",
    "        results = pool.gather(results)\n",
    "    results_df = pd.concat(results)\n",
    "    \n",
    "    return results_df\n",
    "\n",
    "\n",
    "param_dict = {  \n",
    "                'changepoint_prior_scale': [0.1, 1, 10],\n",
    "                'changepoint_range': [0.8, 0.9]\n",
    "              }\n",
    "\n",
    "metrics = ['horizon', 'rmse', 'mape', 'params'] \n"
   ]
  },
  {
   "cell_type": "code",
   "execution_count": 15,
   "metadata": {},
   "outputs": [],
   "source": [
    "params_df = param_grid_to_df(**param_dict)\n",
    "single_cv_callable = functools.partial(single_param_cv, metrics=metrics)"
   ]
  },
  {
   "cell_type": "markdown",
   "metadata": {},
   "source": [
    "##### Sequential for loop in pandas"
   ]
  },
  {
   "cell_type": "code",
   "execution_count": 19,
   "metadata": {},
   "outputs": [
    {
     "name": "stderr",
     "output_type": "stream",
     "text": [
      "INFO:fbprophet:Disabling daily seasonality. Run prophet with daily_seasonality=True to override this.\n",
      "INFO:fbprophet:Making 2 forecasts with cutoffs between 2015-03-26 00:00:00 and 2015-07-04 00:00:00\n"
     ]
    },
    {
     "data": {
      "application/vnd.jupyter.widget-view+json": {
       "model_id": "2ff27380e3a344ce88978edf21dceb39",
       "version_major": 2,
       "version_minor": 0
      },
      "text/plain": [
       "HBox(children=(FloatProgress(value=0.0, max=2.0), HTML(value='')))"
      ]
     },
     "metadata": {},
     "output_type": "display_data"
    },
    {
     "name": "stderr",
     "output_type": "stream",
     "text": [
      "INFO:fbprophet:Disabling daily seasonality. Run prophet with daily_seasonality=True to override this.\n"
     ]
    },
    {
     "name": "stdout",
     "output_type": "stream",
     "text": [
      "\n"
     ]
    },
    {
     "name": "stderr",
     "output_type": "stream",
     "text": [
      "INFO:fbprophet:Making 2 forecasts with cutoffs between 2015-03-26 00:00:00 and 2015-07-04 00:00:00\n"
     ]
    },
    {
     "data": {
      "application/vnd.jupyter.widget-view+json": {
       "model_id": "51fdfc734a364981b5dfec3d882d3dc8",
       "version_major": 2,
       "version_minor": 0
      },
      "text/plain": [
       "HBox(children=(FloatProgress(value=0.0, max=2.0), HTML(value='')))"
      ]
     },
     "metadata": {},
     "output_type": "display_data"
    },
    {
     "name": "stderr",
     "output_type": "stream",
     "text": [
      "INFO:fbprophet:Disabling daily seasonality. Run prophet with daily_seasonality=True to override this.\n"
     ]
    },
    {
     "name": "stdout",
     "output_type": "stream",
     "text": [
      "\n"
     ]
    },
    {
     "name": "stderr",
     "output_type": "stream",
     "text": [
      "INFO:fbprophet:Making 2 forecasts with cutoffs between 2015-03-26 00:00:00 and 2015-07-04 00:00:00\n"
     ]
    },
    {
     "data": {
      "application/vnd.jupyter.widget-view+json": {
       "model_id": "2cd08174f1bd446e9859110e14c94e51",
       "version_major": 2,
       "version_minor": 0
      },
      "text/plain": [
       "HBox(children=(FloatProgress(value=0.0, max=2.0), HTML(value='')))"
      ]
     },
     "metadata": {},
     "output_type": "display_data"
    },
    {
     "name": "stdout",
     "output_type": "stream",
     "text": [
      "\n"
     ]
    },
    {
     "name": "stderr",
     "output_type": "stream",
     "text": [
      "INFO:fbprophet:Disabling daily seasonality. Run prophet with daily_seasonality=True to override this.\n",
      "INFO:fbprophet:Making 2 forecasts with cutoffs between 2015-03-26 00:00:00 and 2015-07-04 00:00:00\n"
     ]
    },
    {
     "data": {
      "application/vnd.jupyter.widget-view+json": {
       "model_id": "571660cf9345484093169ab48aa0afa3",
       "version_major": 2,
       "version_minor": 0
      },
      "text/plain": [
       "HBox(children=(FloatProgress(value=0.0, max=2.0), HTML(value='')))"
      ]
     },
     "metadata": {},
     "output_type": "display_data"
    },
    {
     "name": "stdout",
     "output_type": "stream",
     "text": [
      "\n"
     ]
    },
    {
     "name": "stderr",
     "output_type": "stream",
     "text": [
      "INFO:fbprophet:Disabling daily seasonality. Run prophet with daily_seasonality=True to override this.\n",
      "INFO:fbprophet:Making 2 forecasts with cutoffs between 2015-03-26 00:00:00 and 2015-07-04 00:00:00\n"
     ]
    },
    {
     "data": {
      "application/vnd.jupyter.widget-view+json": {
       "model_id": "6670a4bd048e46ac8615b1bdfba8189e",
       "version_major": 2,
       "version_minor": 0
      },
      "text/plain": [
       "HBox(children=(FloatProgress(value=0.0, max=2.0), HTML(value='')))"
      ]
     },
     "metadata": {},
     "output_type": "display_data"
    },
    {
     "name": "stderr",
     "output_type": "stream",
     "text": [
      "INFO:fbprophet:Disabling daily seasonality. Run prophet with daily_seasonality=True to override this.\n"
     ]
    },
    {
     "name": "stdout",
     "output_type": "stream",
     "text": [
      "\n"
     ]
    },
    {
     "name": "stderr",
     "output_type": "stream",
     "text": [
      "INFO:fbprophet:Making 2 forecasts with cutoffs between 2015-03-26 00:00:00 and 2015-07-04 00:00:00\n"
     ]
    },
    {
     "data": {
      "application/vnd.jupyter.widget-view+json": {
       "model_id": "8c56fe1bb61647d8b47a813e15649f1e",
       "version_major": 2,
       "version_minor": 0
      },
      "text/plain": [
       "HBox(children=(FloatProgress(value=0.0, max=2.0), HTML(value='')))"
      ]
     },
     "metadata": {},
     "output_type": "display_data"
    },
    {
     "name": "stdout",
     "output_type": "stream",
     "text": [
      "\n",
      "The best param combination is {'changepoint_prior_scale': 0.1, 'changepoint_range': 0.8}\n",
      "CPU times: user 2min 14s, sys: 6.43 s, total: 2min 21s\n",
      "Wall time: 2min 25s\n"
     ]
    },
    {
     "data": {
      "text/html": [
       "<div>\n",
       "<style scoped>\n",
       "    .dataframe tbody tr th:only-of-type {\n",
       "        vertical-align: middle;\n",
       "    }\n",
       "\n",
       "    .dataframe tbody tr th {\n",
       "        vertical-align: top;\n",
       "    }\n",
       "\n",
       "    .dataframe thead th {\n",
       "        text-align: right;\n",
       "    }\n",
       "</style>\n",
       "<table border=\"1\" class=\"dataframe\">\n",
       "  <thead>\n",
       "    <tr style=\"text-align: right;\">\n",
       "      <th></th>\n",
       "      <th>horizon</th>\n",
       "      <th>rmse</th>\n",
       "      <th>mape</th>\n",
       "      <th>params</th>\n",
       "    </tr>\n",
       "  </thead>\n",
       "  <tbody>\n",
       "    <tr>\n",
       "      <th>0</th>\n",
       "      <td>200 days</td>\n",
       "      <td>0.453529</td>\n",
       "      <td>0.034922</td>\n",
       "      <td>{'changepoint_prior_scale': 0.1, 'changepoint_...</td>\n",
       "    </tr>\n",
       "    <tr>\n",
       "      <th>0</th>\n",
       "      <td>200 days</td>\n",
       "      <td>0.464545</td>\n",
       "      <td>0.036444</td>\n",
       "      <td>{'changepoint_prior_scale': 0.1, 'changepoint_...</td>\n",
       "    </tr>\n",
       "    <tr>\n",
       "      <th>0</th>\n",
       "      <td>200 days</td>\n",
       "      <td>0.460679</td>\n",
       "      <td>0.035948</td>\n",
       "      <td>{'changepoint_prior_scale': 1.0, 'changepoint_...</td>\n",
       "    </tr>\n",
       "    <tr>\n",
       "      <th>0</th>\n",
       "      <td>200 days</td>\n",
       "      <td>0.503636</td>\n",
       "      <td>0.040299</td>\n",
       "      <td>{'changepoint_prior_scale': 1.0, 'changepoint_...</td>\n",
       "    </tr>\n",
       "    <tr>\n",
       "      <th>0</th>\n",
       "      <td>200 days</td>\n",
       "      <td>0.463724</td>\n",
       "      <td>0.036518</td>\n",
       "      <td>{'changepoint_prior_scale': 10.0, 'changepoint...</td>\n",
       "    </tr>\n",
       "    <tr>\n",
       "      <th>0</th>\n",
       "      <td>200 days</td>\n",
       "      <td>0.505390</td>\n",
       "      <td>0.039331</td>\n",
       "      <td>{'changepoint_prior_scale': 10.0, 'changepoint...</td>\n",
       "    </tr>\n",
       "  </tbody>\n",
       "</table>\n",
       "</div>"
      ],
      "text/plain": [
       "   horizon      rmse      mape  \\\n",
       "0 200 days  0.453529  0.034922   \n",
       "0 200 days  0.464545  0.036444   \n",
       "0 200 days  0.460679  0.035948   \n",
       "0 200 days  0.503636  0.040299   \n",
       "0 200 days  0.463724  0.036518   \n",
       "0 200 days  0.505390  0.039331   \n",
       "\n",
       "                                              params  \n",
       "0  {'changepoint_prior_scale': 0.1, 'changepoint_...  \n",
       "0  {'changepoint_prior_scale': 0.1, 'changepoint_...  \n",
       "0  {'changepoint_prior_scale': 1.0, 'changepoint_...  \n",
       "0  {'changepoint_prior_scale': 1.0, 'changepoint_...  \n",
       "0  {'changepoint_prior_scale': 10.0, 'changepoint...  \n",
       "0  {'changepoint_prior_scale': 10.0, 'changepoint...  "
      ]
     },
     "execution_count": 19,
     "metadata": {},
     "output_type": "execute_result"
    }
   ],
   "source": [
    "%%time\n",
    "\n",
    "result_df  = hyperparameter_cv(df, params_df, single_cv_callable, pool=None)\n",
    "best_param = result_df.loc[result_df['rmse'] == min(result_df['rmse']), ['params']]\n",
    "print(f'The best param combination is {best_param.values[0][0]}')\n",
    "result_df"
   ]
  },
  {
   "cell_type": "markdown",
   "metadata": {},
   "source": [
    "#### Using client object and Futures API"
   ]
  },
  {
   "cell_type": "code",
   "execution_count": 4,
   "metadata": {},
   "outputs": [
    {
     "data": {
      "text/html": [
       "<table style=\"border: 2px solid white;\">\n",
       "<tr>\n",
       "<td style=\"vertical-align: top; border: 0px solid white\">\n",
       "<h3 style=\"text-align: left;\">Client</h3>\n",
       "<ul style=\"text-align: left; list-style: none; margin: 0; padding: 0;\">\n",
       "  <li><b>Scheduler: </b>tcp://127.0.0.1:50214</li>\n",
       "  <li><b>Dashboard: </b><a href='http://127.0.0.1:8787/status' target='_blank'>http://127.0.0.1:8787/status</a>\n",
       "</ul>\n",
       "</td>\n",
       "<td style=\"vertical-align: top; border: 0px solid white\">\n",
       "<h3 style=\"text-align: left;\">Cluster</h3>\n",
       "<ul style=\"text-align: left; list-style:none; margin: 0; padding: 0;\">\n",
       "  <li><b>Workers: </b>4</li>\n",
       "  <li><b>Cores: </b>4</li>\n",
       "  <li><b>Memory: </b>4.29 GB</li>\n",
       "</ul>\n",
       "</td>\n",
       "</tr>\n",
       "</table>"
      ],
      "text/plain": [
       "<Client: 'tcp://127.0.0.1:50214' processes=4 threads=4, memory=4.29 GB>"
      ]
     },
     "execution_count": 4,
     "metadata": {},
     "output_type": "execute_result"
    }
   ],
   "source": [
    "pool = Client()\n",
    "pool"
   ]
  },
  {
   "cell_type": "code",
   "execution_count": 18,
   "metadata": {},
   "outputs": [
    {
     "name": "stdout",
     "output_type": "stream",
     "text": [
      "The best param combination is {'changepoint_prior_scale': 0.1, 'changepoint_range': 0.8}\n",
      "CPU times: user 10.8 s, sys: 1.41 s, total: 12.2 s\n",
      "Wall time: 1min 36s\n"
     ]
    },
    {
     "data": {
      "text/html": [
       "<div>\n",
       "<style scoped>\n",
       "    .dataframe tbody tr th:only-of-type {\n",
       "        vertical-align: middle;\n",
       "    }\n",
       "\n",
       "    .dataframe tbody tr th {\n",
       "        vertical-align: top;\n",
       "    }\n",
       "\n",
       "    .dataframe thead th {\n",
       "        text-align: right;\n",
       "    }\n",
       "</style>\n",
       "<table border=\"1\" class=\"dataframe\">\n",
       "  <thead>\n",
       "    <tr style=\"text-align: right;\">\n",
       "      <th></th>\n",
       "      <th>horizon</th>\n",
       "      <th>rmse</th>\n",
       "      <th>mape</th>\n",
       "      <th>params</th>\n",
       "    </tr>\n",
       "  </thead>\n",
       "  <tbody>\n",
       "    <tr>\n",
       "      <th>0</th>\n",
       "      <td>200 days</td>\n",
       "      <td>0.453529</td>\n",
       "      <td>0.034922</td>\n",
       "      <td>{'changepoint_prior_scale': 0.1, 'changepoint_...</td>\n",
       "    </tr>\n",
       "    <tr>\n",
       "      <th>0</th>\n",
       "      <td>200 days</td>\n",
       "      <td>0.464545</td>\n",
       "      <td>0.036444</td>\n",
       "      <td>{'changepoint_prior_scale': 0.1, 'changepoint_...</td>\n",
       "    </tr>\n",
       "    <tr>\n",
       "      <th>0</th>\n",
       "      <td>200 days</td>\n",
       "      <td>0.460679</td>\n",
       "      <td>0.035948</td>\n",
       "      <td>{'changepoint_prior_scale': 1.0, 'changepoint_...</td>\n",
       "    </tr>\n",
       "    <tr>\n",
       "      <th>0</th>\n",
       "      <td>200 days</td>\n",
       "      <td>0.503636</td>\n",
       "      <td>0.040299</td>\n",
       "      <td>{'changepoint_prior_scale': 1.0, 'changepoint_...</td>\n",
       "    </tr>\n",
       "    <tr>\n",
       "      <th>0</th>\n",
       "      <td>200 days</td>\n",
       "      <td>0.463724</td>\n",
       "      <td>0.036518</td>\n",
       "      <td>{'changepoint_prior_scale': 10.0, 'changepoint...</td>\n",
       "    </tr>\n",
       "    <tr>\n",
       "      <th>0</th>\n",
       "      <td>200 days</td>\n",
       "      <td>0.505390</td>\n",
       "      <td>0.039331</td>\n",
       "      <td>{'changepoint_prior_scale': 10.0, 'changepoint...</td>\n",
       "    </tr>\n",
       "  </tbody>\n",
       "</table>\n",
       "</div>"
      ],
      "text/plain": [
       "   horizon      rmse      mape  \\\n",
       "0 200 days  0.453529  0.034922   \n",
       "0 200 days  0.464545  0.036444   \n",
       "0 200 days  0.460679  0.035948   \n",
       "0 200 days  0.503636  0.040299   \n",
       "0 200 days  0.463724  0.036518   \n",
       "0 200 days  0.505390  0.039331   \n",
       "\n",
       "                                              params  \n",
       "0  {'changepoint_prior_scale': 0.1, 'changepoint_...  \n",
       "0  {'changepoint_prior_scale': 0.1, 'changepoint_...  \n",
       "0  {'changepoint_prior_scale': 1.0, 'changepoint_...  \n",
       "0  {'changepoint_prior_scale': 1.0, 'changepoint_...  \n",
       "0  {'changepoint_prior_scale': 10.0, 'changepoint...  \n",
       "0  {'changepoint_prior_scale': 10.0, 'changepoint...  "
      ]
     },
     "execution_count": 18,
     "metadata": {},
     "output_type": "execute_result"
    }
   ],
   "source": [
    "\n",
    "\n",
    "%time result_df  = hyperparameter_cv(df, params_df, single_cv_callable, pool=pool)\n",
    "result_df\n",
    "best_param = result_df.loc[result_df['rmse'] == min(result_df['rmse']), ['params']]\n",
    "print(f'The best param combination is {best_param.values[0][0]}')\n",
    "result_df"
   ]
  },
  {
   "cell_type": "code",
   "execution_count": null,
   "metadata": {},
   "outputs": [],
   "source": []
  }
 ],
 "metadata": {
  "kernelspec": {
   "display_name": "Python (fbprophet)",
   "language": "python",
   "name": "fbprophet"
  },
  "language_info": {
   "codemirror_mode": {
    "name": "ipython",
    "version": 3
   },
   "file_extension": ".py",
   "mimetype": "text/x-python",
   "name": "python",
   "nbconvert_exporter": "python",
   "pygments_lexer": "ipython3",
   "version": "3.7.0"
  }
 },
 "nbformat": 4,
 "nbformat_minor": 4
}
