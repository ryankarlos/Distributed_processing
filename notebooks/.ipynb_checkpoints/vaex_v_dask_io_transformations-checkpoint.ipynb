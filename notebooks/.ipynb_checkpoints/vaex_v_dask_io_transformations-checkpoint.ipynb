{
 "cells": [
  {
   "cell_type": "code",
   "execution_count": 1,
   "id": "2dd53d60",
   "metadata": {},
   "outputs": [],
   "source": [
    "import numpy as np\n",
    "import pandas as pd\n",
    "import vaex\n",
    "import dask\n",
    "import matplotlib.pylab as plt\n",
    "%matplotlib inline"
   ]
  },
  {
   "cell_type": "code",
   "execution_count": null,
   "id": "838f0c89",
   "metadata": {},
   "outputs": [],
   "source": [
    "\n",
    "n_rows = 10000000\n",
    "n_cols = 80\n",
    "mu, sigma = 7, 3 \n",
    "df = pd.DataFrame(np.random.normal(mu, sigma, size=(n_rows, n_cols)), columns=[f'c{i}' for i in range(n_cols)])\n",
    "### save around 6gb data \n",
    "df.to_csv('../data/dataset.csv')"
   ]
  },
  {
   "cell_type": "markdown",
   "id": "a93fe8b6",
   "metadata": {},
   "source": [
    "### I/O"
   ]
  },
  {
   "cell_type": "markdown",
   "id": "114df345",
   "metadata": {},
   "source": [
    "The only requirement on the Vaex data frame, it works well with HDF5 data. So the CSV files need to convert to the required HDF5 format.Converts into intermediate hdf5 files based on chunk size argument\n",
    "Also aggregates the chunks and saves into one hdf5 "
   ]
  },
  {
   "cell_type": "code",
   "execution_count": null,
   "id": "629a4de9",
   "metadata": {},
   "outputs": [],
   "source": [
    "%time vaex_df = vaex.from_csv('../data/dataset.csv', convert=True, chunk_size=1000000)"
   ]
  },
  {
   "cell_type": "code",
   "execution_count": 6,
   "id": "e74a4fe8",
   "metadata": {},
   "outputs": [
    {
     "name": "stdout",
     "output_type": "stream",
     "text": [
      "CPU times: user 1min 55s, sys: 22.2 s, total: 2min 18s\n",
      "Wall time: 2min 26s\n"
     ]
    }
   ],
   "source": [
    "%%time\n",
    "pd_df = pd.read_csv('../data/dataset.csv')"
   ]
  },
  {
   "cell_type": "markdown",
   "id": "d02feebc",
   "metadata": {},
   "source": [
    "read directly from hdf5 file would take ms as sorted in column format"
   ]
  },
  {
   "cell_type": "code",
   "execution_count": 2,
   "id": "97818652",
   "metadata": {},
   "outputs": [
    {
     "name": "stdout",
     "output_type": "stream",
     "text": [
      "CPU times: user 707 ms, sys: 223 ms, total: 931 ms\n",
      "Wall time: 1.19 s\n"
     ]
    }
   ],
   "source": [
    "%%time\n",
    "vaex_df = vaex.open('../data/dataset.csv.hdf5')"
   ]
  },
  {
   "cell_type": "code",
   "execution_count": 3,
   "id": "784bbdfa",
   "metadata": {},
   "outputs": [
    {
     "name": "stdout",
     "output_type": "stream",
     "text": [
      "(10000000, 81)\n"
     ]
    },
    {
     "data": {
      "text/html": [
       "<table>\n",
       "<thead>\n",
       "<tr><th>#                            </th><th style=\"text-align: right;\">  Unnamed: 0</th><th style=\"text-align: right;\">      c0</th><th style=\"text-align: right;\">       c1</th><th style=\"text-align: right;\">      c2</th><th style=\"text-align: right;\">      c3</th><th style=\"text-align: right;\">      c4</th><th style=\"text-align: right;\">      c5</th><th style=\"text-align: right;\">      c6</th><th style=\"text-align: right;\">      c7</th><th style=\"text-align: right;\">      c8</th><th style=\"text-align: right;\">      c9</th><th style=\"text-align: right;\">     c10</th><th style=\"text-align: right;\">    c11</th><th style=\"text-align: right;\">     c12</th><th style=\"text-align: right;\">     c13</th><th style=\"text-align: right;\">     c14</th><th style=\"text-align: right;\">     c15</th><th style=\"text-align: right;\">     c16</th><th style=\"text-align: right;\">     c17</th><th style=\"text-align: right;\">     c18</th><th style=\"text-align: right;\">     c19</th><th style=\"text-align: right;\">    c20</th><th style=\"text-align: right;\">    c21</th><th style=\"text-align: right;\">     c22</th><th style=\"text-align: right;\">     c23</th><th style=\"text-align: right;\">    c24</th><th style=\"text-align: right;\">     c25</th><th style=\"text-align: right;\">     c26</th><th style=\"text-align: right;\">    c27</th><th style=\"text-align: right;\">     c28</th><th style=\"text-align: right;\">     c29</th><th style=\"text-align: right;\">     c30</th><th style=\"text-align: right;\">     c31</th><th style=\"text-align: right;\">      c32</th><th style=\"text-align: right;\">     c33</th><th style=\"text-align: right;\">     c34</th><th style=\"text-align: right;\">     c35</th><th style=\"text-align: right;\">     c36</th><th style=\"text-align: right;\">     c37</th><th style=\"text-align: right;\">     c38</th><th style=\"text-align: right;\">      c39</th><th style=\"text-align: right;\">    c40</th><th style=\"text-align: right;\">    c41</th><th style=\"text-align: right;\">     c42</th><th style=\"text-align: right;\">      c43</th><th style=\"text-align: right;\">     c44</th><th style=\"text-align: right;\">    c45</th><th style=\"text-align: right;\">     c46</th><th style=\"text-align: right;\">     c47</th><th style=\"text-align: right;\">    c48</th><th style=\"text-align: right;\">      c49</th><th style=\"text-align: right;\">      c50</th><th style=\"text-align: right;\">     c51</th><th style=\"text-align: right;\">     c52</th><th style=\"text-align: right;\">     c53</th><th style=\"text-align: right;\">     c54</th><th style=\"text-align: right;\">     c55</th><th style=\"text-align: right;\">    c56</th><th style=\"text-align: right;\">     c57</th><th style=\"text-align: right;\">     c58</th><th style=\"text-align: right;\">     c59</th><th style=\"text-align: right;\">     c60</th><th style=\"text-align: right;\">      c61</th><th style=\"text-align: right;\">     c62</th><th style=\"text-align: right;\">     c63</th><th style=\"text-align: right;\">     c64</th><th style=\"text-align: right;\">     c65</th><th style=\"text-align: right;\">     c66</th><th style=\"text-align: right;\">     c67</th><th style=\"text-align: right;\">    c68</th><th style=\"text-align: right;\">     c69</th><th style=\"text-align: right;\">    c70</th><th style=\"text-align: right;\">     c71</th><th style=\"text-align: right;\">    c72</th><th style=\"text-align: right;\">     c73</th><th style=\"text-align: right;\">     c74</th><th style=\"text-align: right;\">     c75</th><th style=\"text-align: right;\">     c76</th><th style=\"text-align: right;\">    c77</th><th style=\"text-align: right;\">     c78</th><th style=\"text-align: right;\">     c79</th></tr>\n",
       "</thead>\n",
       "<tbody>\n",
       "<tr><td><i style='opacity: 0.6'>0</i></td><td style=\"text-align: right;\">           0</td><td style=\"text-align: right;\"> 4.6979 </td><td style=\"text-align: right;\"> 8.77072 </td><td style=\"text-align: right;\"> 6.56435</td><td style=\"text-align: right;\"> 9.84158</td><td style=\"text-align: right;\"> 5.75058</td><td style=\"text-align: right;\"> 7.95298</td><td style=\"text-align: right;\"> 5.02752</td><td style=\"text-align: right;\"> 4.49698</td><td style=\"text-align: right;\">10.8781 </td><td style=\"text-align: right;\"> 8.97752</td><td style=\"text-align: right;\"> 5.05758</td><td style=\"text-align: right;\">9.67977</td><td style=\"text-align: right;\"> 7.72749</td><td style=\"text-align: right;\">10.7072 </td><td style=\"text-align: right;\"> 7.67609</td><td style=\"text-align: right;\"> 8.763  </td><td style=\"text-align: right;\"> 6.67839</td><td style=\"text-align: right;\"> 3.62642</td><td style=\"text-align: right;\"> 7.3007 </td><td style=\"text-align: right;\"> 8.19756</td><td style=\"text-align: right;\">7.96745</td><td style=\"text-align: right;\">7.38679</td><td style=\"text-align: right;\"> 6.61808</td><td style=\"text-align: right;\">10.0571 </td><td style=\"text-align: right;\">7.09957</td><td style=\"text-align: right;\"> 6.06199</td><td style=\"text-align: right;\"> 3.46468</td><td style=\"text-align: right;\">6.54203</td><td style=\"text-align: right;\"> 5.6668 </td><td style=\"text-align: right;\"> 5.93491</td><td style=\"text-align: right;\"> 4.79201</td><td style=\"text-align: right;\"> 7.40095</td><td style=\"text-align: right;\"> 9.9509  </td><td style=\"text-align: right;\"> 8.96652</td><td style=\"text-align: right;\">12.1515 </td><td style=\"text-align: right;\">14.389  </td><td style=\"text-align: right;\">12.0348 </td><td style=\"text-align: right;\"> 6.70016</td><td style=\"text-align: right;\">13.3804 </td><td style=\"text-align: right;\"> 7.49172 </td><td style=\"text-align: right;\">2.73006</td><td style=\"text-align: right;\">6.26755</td><td style=\"text-align: right;\"> 8.62473</td><td style=\"text-align: right;\"> 3.78213 </td><td style=\"text-align: right;\"> 2.49237</td><td style=\"text-align: right;\">4.27662</td><td style=\"text-align: right;\"> 4.30448</td><td style=\"text-align: right;\">8.83142 </td><td style=\"text-align: right;\">7.58712</td><td style=\"text-align: right;\"> 8.18626 </td><td style=\"text-align: right;\"> 4.43875 </td><td style=\"text-align: right;\"> 5.83439</td><td style=\"text-align: right;\"> 6.07822</td><td style=\"text-align: right;\"> 9.8592 </td><td style=\"text-align: right;\">11.7502 </td><td style=\"text-align: right;\"> 4.5749 </td><td style=\"text-align: right;\">2.75096</td><td style=\"text-align: right;\"> 4.66408</td><td style=\"text-align: right;\"> 2.91013</td><td style=\"text-align: right;\"> 7.02943</td><td style=\"text-align: right;\">12.907  </td><td style=\"text-align: right;\"> 3.11924 </td><td style=\"text-align: right;\"> 1.68638</td><td style=\"text-align: right;\"> 4.28463</td><td style=\"text-align: right;\"> 7.30062</td><td style=\"text-align: right;\">11.7568 </td><td style=\"text-align: right;\"> 9.07602</td><td style=\"text-align: right;\">10.7124 </td><td style=\"text-align: right;\">7.1692 </td><td style=\"text-align: right;\"> 1.95161</td><td style=\"text-align: right;\">7.24987</td><td style=\"text-align: right;\">6.36384 </td><td style=\"text-align: right;\">3.36408</td><td style=\"text-align: right;\">12.6506 </td><td style=\"text-align: right;\"> 7.68318</td><td style=\"text-align: right;\"> 8.19804</td><td style=\"text-align: right;\"> 6.88962</td><td style=\"text-align: right;\">2.53267</td><td style=\"text-align: right;\"> 5.06029</td><td style=\"text-align: right;\">12.2429 </td></tr>\n",
       "<tr><td><i style='opacity: 0.6'>1</i></td><td style=\"text-align: right;\">           1</td><td style=\"text-align: right;\"> 6.59908</td><td style=\"text-align: right;\"> 2.37651 </td><td style=\"text-align: right;\"> 5.71334</td><td style=\"text-align: right;\"> 4.81135</td><td style=\"text-align: right;\"> 9.58743</td><td style=\"text-align: right;\"> 8.86807</td><td style=\"text-align: right;\"> 1.47635</td><td style=\"text-align: right;\"> 4.50266</td><td style=\"text-align: right;\"> 2.90834</td><td style=\"text-align: right;\">11.6442 </td><td style=\"text-align: right;\"> 9.78297</td><td style=\"text-align: right;\">2.71649</td><td style=\"text-align: right;\"> 7.21038</td><td style=\"text-align: right;\"> 7.40628</td><td style=\"text-align: right;\"> 9.41528</td><td style=\"text-align: right;\"> 5.17727</td><td style=\"text-align: right;\"> 4.36291</td><td style=\"text-align: right;\">11.5406 </td><td style=\"text-align: right;\"> 3.21977</td><td style=\"text-align: right;\"> 0.50321</td><td style=\"text-align: right;\">7.67584</td><td style=\"text-align: right;\">5.40067</td><td style=\"text-align: right;\"> 7.67552</td><td style=\"text-align: right;\"> 5.38171</td><td style=\"text-align: right;\">8.69603</td><td style=\"text-align: right;\"> 6.35798</td><td style=\"text-align: right;\"> 9.55726</td><td style=\"text-align: right;\">8.86774</td><td style=\"text-align: right;\"> 5.83114</td><td style=\"text-align: right;\"> 5.34197</td><td style=\"text-align: right;\"> 5.71952</td><td style=\"text-align: right;\"> 8.60017</td><td style=\"text-align: right;\"> 9.96113 </td><td style=\"text-align: right;\">11.0159 </td><td style=\"text-align: right;\"> 8.27675</td><td style=\"text-align: right;\"> 5.63915</td><td style=\"text-align: right;\"> 8.99588</td><td style=\"text-align: right;\">10.687  </td><td style=\"text-align: right;\"> 8.09686</td><td style=\"text-align: right;\"> 6.32467 </td><td style=\"text-align: right;\">4.14395</td><td style=\"text-align: right;\">6.89682</td><td style=\"text-align: right;\"> 4.54613</td><td style=\"text-align: right;\"> 8.53488 </td><td style=\"text-align: right;\"> 6.32891</td><td style=\"text-align: right;\">6.34476</td><td style=\"text-align: right;\"> 9.96376</td><td style=\"text-align: right;\">6.71482 </td><td style=\"text-align: right;\">5.79853</td><td style=\"text-align: right;\"> 1.25161 </td><td style=\"text-align: right;\"> 0.620119</td><td style=\"text-align: right;\"> 9.74425</td><td style=\"text-align: right;\">15.211  </td><td style=\"text-align: right;\"> 7.42856</td><td style=\"text-align: right;\"> 4.28416</td><td style=\"text-align: right;\"> 5.81505</td><td style=\"text-align: right;\">6.77672</td><td style=\"text-align: right;\"> 8.115  </td><td style=\"text-align: right;\">10.5529 </td><td style=\"text-align: right;\"> 7.63797</td><td style=\"text-align: right;\">15.3242 </td><td style=\"text-align: right;\"> 2.78256 </td><td style=\"text-align: right;\"> 8.70845</td><td style=\"text-align: right;\">10.0202 </td><td style=\"text-align: right;\"> 4.47588</td><td style=\"text-align: right;\">10.137  </td><td style=\"text-align: right;\"> 9.28744</td><td style=\"text-align: right;\"> 5.18855</td><td style=\"text-align: right;\">6.86822</td><td style=\"text-align: right;\"> 3.48239</td><td style=\"text-align: right;\">5.504  </td><td style=\"text-align: right;\">7.40915 </td><td style=\"text-align: right;\">3.87418</td><td style=\"text-align: right;\"> 7.90286</td><td style=\"text-align: right;\"> 5.80181</td><td style=\"text-align: right;\"> 5.77177</td><td style=\"text-align: right;\">10.0148 </td><td style=\"text-align: right;\">6.56707</td><td style=\"text-align: right;\"> 8.27713</td><td style=\"text-align: right;\"> 2.34872</td></tr>\n",
       "<tr><td><i style='opacity: 0.6'>2</i></td><td style=\"text-align: right;\">           2</td><td style=\"text-align: right;\">10.1961 </td><td style=\"text-align: right;\"> 7.32316 </td><td style=\"text-align: right;\"> 1.9871 </td><td style=\"text-align: right;\">11.0663 </td><td style=\"text-align: right;\"> 9.07852</td><td style=\"text-align: right;\"> 4.16169</td><td style=\"text-align: right;\">13.2721 </td><td style=\"text-align: right;\"> 7.56355</td><td style=\"text-align: right;\"> 3.98862</td><td style=\"text-align: right;\"> 4.42454</td><td style=\"text-align: right;\"> 7.4881 </td><td style=\"text-align: right;\">8.82834</td><td style=\"text-align: right;\"> 7.84651</td><td style=\"text-align: right;\">-1.92758</td><td style=\"text-align: right;\"> 6.78529</td><td style=\"text-align: right;\"> 5.15984</td><td style=\"text-align: right;\"> 9.35615</td><td style=\"text-align: right;\"> 4.11863</td><td style=\"text-align: right;\"> 4.04481</td><td style=\"text-align: right;\"> 5.90667</td><td style=\"text-align: right;\">5.81679</td><td style=\"text-align: right;\">2.2633 </td><td style=\"text-align: right;\"> 7.6747 </td><td style=\"text-align: right;\"> 3.10445</td><td style=\"text-align: right;\">9.05687</td><td style=\"text-align: right;\"> 9.63813</td><td style=\"text-align: right;\"> 9.62977</td><td style=\"text-align: right;\">8.11333</td><td style=\"text-align: right;\">12.3485 </td><td style=\"text-align: right;\">10.2738 </td><td style=\"text-align: right;\"> 7.92208</td><td style=\"text-align: right;\"> 3.89361</td><td style=\"text-align: right;\"> 5.44442 </td><td style=\"text-align: right;\"> 4.14426</td><td style=\"text-align: right;\"> 8.55366</td><td style=\"text-align: right;\"> 1.20554</td><td style=\"text-align: right;\"> 4.49974</td><td style=\"text-align: right;\"> 7.20229</td><td style=\"text-align: right;\"> 8.68831</td><td style=\"text-align: right;\">11.3177  </td><td style=\"text-align: right;\">2.62549</td><td style=\"text-align: right;\">4.66199</td><td style=\"text-align: right;\"> 8.28913</td><td style=\"text-align: right;\"> 7.12091 </td><td style=\"text-align: right;\"> 4.72193</td><td style=\"text-align: right;\">7.44265</td><td style=\"text-align: right;\"> 2.86368</td><td style=\"text-align: right;\">0.960148</td><td style=\"text-align: right;\">3.18755</td><td style=\"text-align: right;\"> 4.5794  </td><td style=\"text-align: right;\"> 6.07098 </td><td style=\"text-align: right;\"> 4.82261</td><td style=\"text-align: right;\"> 1.90866</td><td style=\"text-align: right;\"> 9.51391</td><td style=\"text-align: right;\"> 6.88073</td><td style=\"text-align: right;\">10.5459 </td><td style=\"text-align: right;\">3.40952</td><td style=\"text-align: right;\"> 7.90442</td><td style=\"text-align: right;\"> 9.97605</td><td style=\"text-align: right;\"> 5.18844</td><td style=\"text-align: right;\"> 7.23349</td><td style=\"text-align: right;\"> 7.97986 </td><td style=\"text-align: right;\"> 5.94342</td><td style=\"text-align: right;\"> 7.53628</td><td style=\"text-align: right;\"> 6.08355</td><td style=\"text-align: right;\"> 9.51557</td><td style=\"text-align: right;\">10.9415 </td><td style=\"text-align: right;\"> 5.49845</td><td style=\"text-align: right;\">6.52266</td><td style=\"text-align: right;\"> 7.47466</td><td style=\"text-align: right;\">4.55132</td><td style=\"text-align: right;\">1.2194  </td><td style=\"text-align: right;\">9.75902</td><td style=\"text-align: right;\"> 2.24926</td><td style=\"text-align: right;\"> 5.61778</td><td style=\"text-align: right;\"> 7.79943</td><td style=\"text-align: right;\"> 5.00792</td><td style=\"text-align: right;\">5.97845</td><td style=\"text-align: right;\"> 3.80953</td><td style=\"text-align: right;\"> 4.75559</td></tr>\n",
       "<tr><td><i style='opacity: 0.6'>3</i></td><td style=\"text-align: right;\">           3</td><td style=\"text-align: right;\"> 6.35845</td><td style=\"text-align: right;\"> 5.41787 </td><td style=\"text-align: right;\"> 6.94079</td><td style=\"text-align: right;\"> 6.60477</td><td style=\"text-align: right;\"> 8.80072</td><td style=\"text-align: right;\"> 7.76006</td><td style=\"text-align: right;\"> 7.57089</td><td style=\"text-align: right;\"> 3.47122</td><td style=\"text-align: right;\"> 3.72357</td><td style=\"text-align: right;\"> 8.99716</td><td style=\"text-align: right;\">10.4039 </td><td style=\"text-align: right;\">2.03294</td><td style=\"text-align: right;\"> 4.72604</td><td style=\"text-align: right;\"> 6.54639</td><td style=\"text-align: right;\"> 3.55604</td><td style=\"text-align: right;\">10.599  </td><td style=\"text-align: right;\">11.4485 </td><td style=\"text-align: right;\"> 7.29499</td><td style=\"text-align: right;\"> 4.61114</td><td style=\"text-align: right;\"> 6.17021</td><td style=\"text-align: right;\">7.15232</td><td style=\"text-align: right;\">6.48894</td><td style=\"text-align: right;\"> 7.8321 </td><td style=\"text-align: right;\">10.8636 </td><td style=\"text-align: right;\">9.86036</td><td style=\"text-align: right;\">11.3297 </td><td style=\"text-align: right;\"> 2.61766</td><td style=\"text-align: right;\">1.60379</td><td style=\"text-align: right;\"> 8.43692</td><td style=\"text-align: right;\"> 9.45872</td><td style=\"text-align: right;\">13.1422 </td><td style=\"text-align: right;\"> 4.80882</td><td style=\"text-align: right;\"> 7.83663 </td><td style=\"text-align: right;\">10.3719 </td><td style=\"text-align: right;\"> 8.37798</td><td style=\"text-align: right;\">10.562  </td><td style=\"text-align: right;\">10.3392 </td><td style=\"text-align: right;\"> 8.07049</td><td style=\"text-align: right;\"> 5.17745</td><td style=\"text-align: right;\"> 5.76161 </td><td style=\"text-align: right;\">4.99661</td><td style=\"text-align: right;\">9.00598</td><td style=\"text-align: right;\">10.3724 </td><td style=\"text-align: right;\"> 3.71429 </td><td style=\"text-align: right;\">10.4212 </td><td style=\"text-align: right;\">8.42647</td><td style=\"text-align: right;\"> 6.95373</td><td style=\"text-align: right;\">6.76215 </td><td style=\"text-align: right;\">6.58227</td><td style=\"text-align: right;\"> 5.95062 </td><td style=\"text-align: right;\">10.2335  </td><td style=\"text-align: right;\"> 8.46984</td><td style=\"text-align: right;\"> 5.38599</td><td style=\"text-align: right;\"> 6.53009</td><td style=\"text-align: right;\"> 3.72141</td><td style=\"text-align: right;\">10.3501 </td><td style=\"text-align: right;\">7.64833</td><td style=\"text-align: right;\"> 5.94563</td><td style=\"text-align: right;\"> 4.4206 </td><td style=\"text-align: right;\">-1.46625</td><td style=\"text-align: right;\"> 5.01044</td><td style=\"text-align: right;\"> 8.05099 </td><td style=\"text-align: right;\"> 3.66482</td><td style=\"text-align: right;\">12.3659 </td><td style=\"text-align: right;\"> 9.43516</td><td style=\"text-align: right;\"> 7.85996</td><td style=\"text-align: right;\"> 4.45623</td><td style=\"text-align: right;\"> 7.05836</td><td style=\"text-align: right;\">2.7008 </td><td style=\"text-align: right;\">10.5023 </td><td style=\"text-align: right;\">6.1365 </td><td style=\"text-align: right;\">6.6868  </td><td style=\"text-align: right;\">8.70043</td><td style=\"text-align: right;\"> 4.06655</td><td style=\"text-align: right;\"> 6.99143</td><td style=\"text-align: right;\">11.192  </td><td style=\"text-align: right;\"> 5.30777</td><td style=\"text-align: right;\">8.19363</td><td style=\"text-align: right;\"> 7.18778</td><td style=\"text-align: right;\"> 6.79075</td></tr>\n",
       "<tr><td><i style='opacity: 0.6'>4</i></td><td style=\"text-align: right;\">           4</td><td style=\"text-align: right;\"> 9.96498</td><td style=\"text-align: right;\"> 3.08717 </td><td style=\"text-align: right;\"> 4.06472</td><td style=\"text-align: right;\"> 7.94133</td><td style=\"text-align: right;\"> 5.40701</td><td style=\"text-align: right;\"> 3.89747</td><td style=\"text-align: right;\"> 7.79406</td><td style=\"text-align: right;\"> 3.23897</td><td style=\"text-align: right;\"> 6.11911</td><td style=\"text-align: right;\"> 8.68363</td><td style=\"text-align: right;\"> 8.79612</td><td style=\"text-align: right;\">3.82103</td><td style=\"text-align: right;\">10.4588 </td><td style=\"text-align: right;\">12.1271 </td><td style=\"text-align: right;\"> 7.23105</td><td style=\"text-align: right;\"> 4.35043</td><td style=\"text-align: right;\"> 5.1808 </td><td style=\"text-align: right;\">13.325  </td><td style=\"text-align: right;\">11.2482 </td><td style=\"text-align: right;\"> 9.67233</td><td style=\"text-align: right;\">6.85453</td><td style=\"text-align: right;\">8.0465 </td><td style=\"text-align: right;\"> 8.55814</td><td style=\"text-align: right;\"> 3.30766</td><td style=\"text-align: right;\">3.96267</td><td style=\"text-align: right;\"> 9.38194</td><td style=\"text-align: right;\"> 6.76997</td><td style=\"text-align: right;\">8.10372</td><td style=\"text-align: right;\"> 4.49723</td><td style=\"text-align: right;\"> 3.33557</td><td style=\"text-align: right;\"> 8.36631</td><td style=\"text-align: right;\"> 7.51405</td><td style=\"text-align: right;\"> 0.013873</td><td style=\"text-align: right;\"> 2.12721</td><td style=\"text-align: right;\"> 3.66972</td><td style=\"text-align: right;\">11.265  </td><td style=\"text-align: right;\">11.3683 </td><td style=\"text-align: right;\"> 4.76299</td><td style=\"text-align: right;\"> 3.56155</td><td style=\"text-align: right;\"> 7.26436 </td><td style=\"text-align: right;\">5.48471</td><td style=\"text-align: right;\">6.5198 </td><td style=\"text-align: right;\">11.8722 </td><td style=\"text-align: right;\"> 7.32721 </td><td style=\"text-align: right;\"> 3.57977</td><td style=\"text-align: right;\">7.46572</td><td style=\"text-align: right;\"> 9.78181</td><td style=\"text-align: right;\">9.28941 </td><td style=\"text-align: right;\">4.75379</td><td style=\"text-align: right;\"> 9.60692 </td><td style=\"text-align: right;\"> 3.41846 </td><td style=\"text-align: right;\"> 5.4941 </td><td style=\"text-align: right;\">10.5678 </td><td style=\"text-align: right;\"> 6.68442</td><td style=\"text-align: right;\">10.661  </td><td style=\"text-align: right;\"> 2.18922</td><td style=\"text-align: right;\">6.79655</td><td style=\"text-align: right;\"> 7.12157</td><td style=\"text-align: right;\"> 8.1398 </td><td style=\"text-align: right;\"> 5.76057</td><td style=\"text-align: right;\"> 8.75465</td><td style=\"text-align: right;\">11.4573  </td><td style=\"text-align: right;\">10.1221 </td><td style=\"text-align: right;\"> 4.41987</td><td style=\"text-align: right;\"> 4.3306 </td><td style=\"text-align: right;\"> 9.85827</td><td style=\"text-align: right;\"> 5.83447</td><td style=\"text-align: right;\"> 7.02891</td><td style=\"text-align: right;\">3.6822 </td><td style=\"text-align: right;\"> 9.88166</td><td style=\"text-align: right;\">4.777  </td><td style=\"text-align: right;\">6.7582  </td><td style=\"text-align: right;\">3.72462</td><td style=\"text-align: right;\"> 7.57259</td><td style=\"text-align: right;\"> 6.00003</td><td style=\"text-align: right;\"> 9.96147</td><td style=\"text-align: right;\"> 4.27892</td><td style=\"text-align: right;\">4.94618</td><td style=\"text-align: right;\">10.2624 </td><td style=\"text-align: right;\"> 7.64168</td></tr>\n",
       "<tr><td><i style='opacity: 0.6'>5</i></td><td style=\"text-align: right;\">           5</td><td style=\"text-align: right;\"> 3.07691</td><td style=\"text-align: right;\"> 0.358927</td><td style=\"text-align: right;\"> 9.28529</td><td style=\"text-align: right;\"> 3.58946</td><td style=\"text-align: right;\">10.9233 </td><td style=\"text-align: right;\">14.2967 </td><td style=\"text-align: right;\"> 9.61904</td><td style=\"text-align: right;\"> 9.59514</td><td style=\"text-align: right;\"> 8.77175</td><td style=\"text-align: right;\"> 2.44921</td><td style=\"text-align: right;\">12.271  </td><td style=\"text-align: right;\">3.68731</td><td style=\"text-align: right;\"> 4.5652 </td><td style=\"text-align: right;\"> 7.18352</td><td style=\"text-align: right;\"> 5.60738</td><td style=\"text-align: right;\">12.006  </td><td style=\"text-align: right;\"> 8.38339</td><td style=\"text-align: right;\"> 6.23743</td><td style=\"text-align: right;\"> 5.90837</td><td style=\"text-align: right;\">10.1337 </td><td style=\"text-align: right;\">1.46746</td><td style=\"text-align: right;\">4.82788</td><td style=\"text-align: right;\">11.6869 </td><td style=\"text-align: right;\"> 6.9325 </td><td style=\"text-align: right;\">3.01256</td><td style=\"text-align: right;\"> 7.06918</td><td style=\"text-align: right;\">10.1088 </td><td style=\"text-align: right;\">6.1089 </td><td style=\"text-align: right;\"> 7.32092</td><td style=\"text-align: right;\"> 5.27986</td><td style=\"text-align: right;\"> 8.55854</td><td style=\"text-align: right;\">10.4034 </td><td style=\"text-align: right;\"> 9.54231 </td><td style=\"text-align: right;\">10.7907 </td><td style=\"text-align: right;\"> 5.02665</td><td style=\"text-align: right;\"> 9.34786</td><td style=\"text-align: right;\"> 5.91981</td><td style=\"text-align: right;\"> 3.37339</td><td style=\"text-align: right;\"> 9.79003</td><td style=\"text-align: right;\"> 6.96417 </td><td style=\"text-align: right;\">8.5407 </td><td style=\"text-align: right;\">9.54953</td><td style=\"text-align: right;\"> 2.16053</td><td style=\"text-align: right;\"> 3.68859 </td><td style=\"text-align: right;\"> 9.73767</td><td style=\"text-align: right;\">9.41812</td><td style=\"text-align: right;\"> 1.62137</td><td style=\"text-align: right;\">3.3498  </td><td style=\"text-align: right;\">7.7373 </td><td style=\"text-align: right;\"> 6.09148 </td><td style=\"text-align: right;\"> 7.17729 </td><td style=\"text-align: right;\"> 7.67269</td><td style=\"text-align: right;\"> 8.75949</td><td style=\"text-align: right;\"> 8.53285</td><td style=\"text-align: right;\"> 7.6558 </td><td style=\"text-align: right;\"> 6.36176</td><td style=\"text-align: right;\">8.09794</td><td style=\"text-align: right;\"> 6.59429</td><td style=\"text-align: right;\">-0.82551</td><td style=\"text-align: right;\"> 2.79287</td><td style=\"text-align: right;\"> 5.4893 </td><td style=\"text-align: right;\">12.5616  </td><td style=\"text-align: right;\"> 4.33089</td><td style=\"text-align: right;\">11.4453 </td><td style=\"text-align: right;\">10.4313 </td><td style=\"text-align: right;\"> 4.55574</td><td style=\"text-align: right;\"> 2.76321</td><td style=\"text-align: right;\">12.8314 </td><td style=\"text-align: right;\">3.22022</td><td style=\"text-align: right;\">10.6385 </td><td style=\"text-align: right;\">3.151  </td><td style=\"text-align: right;\">8.10408 </td><td style=\"text-align: right;\">4.64825</td><td style=\"text-align: right;\"> 6.72359</td><td style=\"text-align: right;\"> 2.73559</td><td style=\"text-align: right;\"> 4.98404</td><td style=\"text-align: right;\"> 9.61859</td><td style=\"text-align: right;\">6.83448</td><td style=\"text-align: right;\"> 8.70534</td><td style=\"text-align: right;\"> 6.53575</td></tr>\n",
       "<tr><td><i style='opacity: 0.6'>6</i></td><td style=\"text-align: right;\">           6</td><td style=\"text-align: right;\"> 6.3682 </td><td style=\"text-align: right;\">12.4103  </td><td style=\"text-align: right;\"> 4.31188</td><td style=\"text-align: right;\"> 8.50533</td><td style=\"text-align: right;\"> 9.57451</td><td style=\"text-align: right;\">11.3777 </td><td style=\"text-align: right;\"> 2.79172</td><td style=\"text-align: right;\"> 8.70846</td><td style=\"text-align: right;\"> 6.57582</td><td style=\"text-align: right;\"> 6.44031</td><td style=\"text-align: right;\"> 6.27593</td><td style=\"text-align: right;\">9.83455</td><td style=\"text-align: right;\"> 7.83193</td><td style=\"text-align: right;\"> 8.55532</td><td style=\"text-align: right;\"> 6.8464 </td><td style=\"text-align: right;\"> 9.31937</td><td style=\"text-align: right;\"> 9.67021</td><td style=\"text-align: right;\"> 5.50178</td><td style=\"text-align: right;\"> 9.26779</td><td style=\"text-align: right;\">11.8037 </td><td style=\"text-align: right;\">4.40755</td><td style=\"text-align: right;\">8.31804</td><td style=\"text-align: right;\"> 4.77992</td><td style=\"text-align: right;\"> 8.32215</td><td style=\"text-align: right;\">5.89352</td><td style=\"text-align: right;\"> 5.05661</td><td style=\"text-align: right;\"> 6.41998</td><td style=\"text-align: right;\">6.04493</td><td style=\"text-align: right;\"> 6.98831</td><td style=\"text-align: right;\">13.7729 </td><td style=\"text-align: right;\"> 7.41665</td><td style=\"text-align: right;\"> 7.38457</td><td style=\"text-align: right;\">11.5537  </td><td style=\"text-align: right;\"> 7.95422</td><td style=\"text-align: right;\">15.0849 </td><td style=\"text-align: right;\"> 7.52834</td><td style=\"text-align: right;\"> 5.08423</td><td style=\"text-align: right;\"> 8.31154</td><td style=\"text-align: right;\"> 9.45563</td><td style=\"text-align: right;\"> 4.40357 </td><td style=\"text-align: right;\">7.21451</td><td style=\"text-align: right;\">2.50856</td><td style=\"text-align: right;\"> 9.91472</td><td style=\"text-align: right;\"> 7.21526 </td><td style=\"text-align: right;\"> 7.40894</td><td style=\"text-align: right;\">6.31175</td><td style=\"text-align: right;\"> 1.90908</td><td style=\"text-align: right;\">8.34949 </td><td style=\"text-align: right;\">6.3178 </td><td style=\"text-align: right;\"> 9.92856 </td><td style=\"text-align: right;\"> 5.5536  </td><td style=\"text-align: right;\">10.3421 </td><td style=\"text-align: right;\"> 7.09488</td><td style=\"text-align: right;\"> 7.66118</td><td style=\"text-align: right;\">12.9266 </td><td style=\"text-align: right;\"> 5.99292</td><td style=\"text-align: right;\">8.45774</td><td style=\"text-align: right;\"> 8.41848</td><td style=\"text-align: right;\"> 4.08902</td><td style=\"text-align: right;\"> 5.31165</td><td style=\"text-align: right;\"> 7.28636</td><td style=\"text-align: right;\">-0.239791</td><td style=\"text-align: right;\"> 6.51915</td><td style=\"text-align: right;\"> 4.11482</td><td style=\"text-align: right;\"> 7.99895</td><td style=\"text-align: right;\"> 5.83939</td><td style=\"text-align: right;\"> 3.64025</td><td style=\"text-align: right;\"> 5.40179</td><td style=\"text-align: right;\">7.38992</td><td style=\"text-align: right;\"> 4.35029</td><td style=\"text-align: right;\">3.36262</td><td style=\"text-align: right;\">0.103178</td><td style=\"text-align: right;\">5.29175</td><td style=\"text-align: right;\"> 9.80855</td><td style=\"text-align: right;\">13.0955 </td><td style=\"text-align: right;\"> 6.13159</td><td style=\"text-align: right;\"> 8.00066</td><td style=\"text-align: right;\">6.54863</td><td style=\"text-align: right;\">10.8434 </td><td style=\"text-align: right;\"> 5.84473</td></tr>\n",
       "<tr><td><i style='opacity: 0.6'>7</i></td><td style=\"text-align: right;\">           7</td><td style=\"text-align: right;\"> 8.13419</td><td style=\"text-align: right;\"> 2.67598 </td><td style=\"text-align: right;\">10.8293 </td><td style=\"text-align: right;\"> 6.81549</td><td style=\"text-align: right;\"> 5.13078</td><td style=\"text-align: right;\"> 4.25317</td><td style=\"text-align: right;\"> 1.67614</td><td style=\"text-align: right;\"> 8.55641</td><td style=\"text-align: right;\"> 9.85188</td><td style=\"text-align: right;\"> 8.94467</td><td style=\"text-align: right;\"> 6.16509</td><td style=\"text-align: right;\">2.85319</td><td style=\"text-align: right;\"> 3.17211</td><td style=\"text-align: right;\"> 5.95084</td><td style=\"text-align: right;\"> 7.26854</td><td style=\"text-align: right;\"> 5.49223</td><td style=\"text-align: right;\"> 5.84238</td><td style=\"text-align: right;\"> 9.08815</td><td style=\"text-align: right;\"> 3.54663</td><td style=\"text-align: right;\">12.4497 </td><td style=\"text-align: right;\">8.39707</td><td style=\"text-align: right;\">9.22626</td><td style=\"text-align: right;\">15.3023 </td><td style=\"text-align: right;\"> 5.70801</td><td style=\"text-align: right;\">4.53031</td><td style=\"text-align: right;\"> 8.48937</td><td style=\"text-align: right;\"> 6.53395</td><td style=\"text-align: right;\">8.10353</td><td style=\"text-align: right;\">10.1113 </td><td style=\"text-align: right;\"> 3.41636</td><td style=\"text-align: right;\"> 3.25673</td><td style=\"text-align: right;\"> 2.81499</td><td style=\"text-align: right;\"> 4.15967 </td><td style=\"text-align: right;\"> 6.43455</td><td style=\"text-align: right;\"> 2.35261</td><td style=\"text-align: right;\"> 8.34821</td><td style=\"text-align: right;\"> 6.41872</td><td style=\"text-align: right;\"> 4.4769 </td><td style=\"text-align: right;\"> 4.2921 </td><td style=\"text-align: right;\"> 6.75712 </td><td style=\"text-align: right;\">3.79004</td><td style=\"text-align: right;\">2.86562</td><td style=\"text-align: right;\"> 9.9049 </td><td style=\"text-align: right;\"> 8.07705 </td><td style=\"text-align: right;\"> 9.20754</td><td style=\"text-align: right;\">3.49653</td><td style=\"text-align: right;\"> 7.2219 </td><td style=\"text-align: right;\">3.1573  </td><td style=\"text-align: right;\">4.20776</td><td style=\"text-align: right;\">12.2043  </td><td style=\"text-align: right;\"> 8.08477 </td><td style=\"text-align: right;\">13.0422 </td><td style=\"text-align: right;\"> 6.10429</td><td style=\"text-align: right;\">10.8695 </td><td style=\"text-align: right;\"> 8.21643</td><td style=\"text-align: right;\">10.0704 </td><td style=\"text-align: right;\">7.1707 </td><td style=\"text-align: right;\"> 7.25076</td><td style=\"text-align: right;\"> 5.35442</td><td style=\"text-align: right;\"> 9.66644</td><td style=\"text-align: right;\"> 9.2841 </td><td style=\"text-align: right;\"> 5.63844 </td><td style=\"text-align: right;\"> 9.81064</td><td style=\"text-align: right;\"> 6.01187</td><td style=\"text-align: right;\"> 6.84053</td><td style=\"text-align: right;\"> 5.69747</td><td style=\"text-align: right;\"> 8.1094 </td><td style=\"text-align: right;\"> 4.79313</td><td style=\"text-align: right;\">4.28824</td><td style=\"text-align: right;\"> 9.28183</td><td style=\"text-align: right;\">2.10048</td><td style=\"text-align: right;\">6.97253 </td><td style=\"text-align: right;\">6.89694</td><td style=\"text-align: right;\"> 6.01403</td><td style=\"text-align: right;\"> 7.68121</td><td style=\"text-align: right;\"> 8.83214</td><td style=\"text-align: right;\"> 7.30448</td><td style=\"text-align: right;\">5.07683</td><td style=\"text-align: right;\"> 4.98039</td><td style=\"text-align: right;\"> 9.29381</td></tr>\n",
       "<tr><td><i style='opacity: 0.6'>8</i></td><td style=\"text-align: right;\">           8</td><td style=\"text-align: right;\">12.1557 </td><td style=\"text-align: right;\"> 9.10579 </td><td style=\"text-align: right;\"> 1.22737</td><td style=\"text-align: right;\"> 8.41196</td><td style=\"text-align: right;\"> 5.07496</td><td style=\"text-align: right;\"> 9.04193</td><td style=\"text-align: right;\"> 2.56227</td><td style=\"text-align: right;\">10.5025 </td><td style=\"text-align: right;\"> 6.49927</td><td style=\"text-align: right;\"> 6.03708</td><td style=\"text-align: right;\"> 5.81432</td><td style=\"text-align: right;\">8.04375</td><td style=\"text-align: right;\"> 7.07391</td><td style=\"text-align: right;\"> 3.65293</td><td style=\"text-align: right;\"> 4.8348 </td><td style=\"text-align: right;\"> 5.12927</td><td style=\"text-align: right;\"> 4.36639</td><td style=\"text-align: right;\"> 8.55529</td><td style=\"text-align: right;\"> 5.67466</td><td style=\"text-align: right;\"> 8.91621</td><td style=\"text-align: right;\">7.46412</td><td style=\"text-align: right;\">5.31952</td><td style=\"text-align: right;\"> 8.40959</td><td style=\"text-align: right;\">10.0851 </td><td style=\"text-align: right;\">8.41742</td><td style=\"text-align: right;\"> 6.03727</td><td style=\"text-align: right;\"> 6.58574</td><td style=\"text-align: right;\">8.41927</td><td style=\"text-align: right;\"> 3.77151</td><td style=\"text-align: right;\"> 4.28227</td><td style=\"text-align: right;\"> 6.3752 </td><td style=\"text-align: right;\">12.0156 </td><td style=\"text-align: right;\"> 9.89449 </td><td style=\"text-align: right;\"> 3.04907</td><td style=\"text-align: right;\"> 9.97882</td><td style=\"text-align: right;\"> 5.13959</td><td style=\"text-align: right;\"> 1.47506</td><td style=\"text-align: right;\"> 5.85405</td><td style=\"text-align: right;\"> 6.8406 </td><td style=\"text-align: right;\"> 0.207416</td><td style=\"text-align: right;\">6.79733</td><td style=\"text-align: right;\">6.73097</td><td style=\"text-align: right;\"> 3.53157</td><td style=\"text-align: right;\">-0.273723</td><td style=\"text-align: right;\"> 8.4461 </td><td style=\"text-align: right;\">5.72907</td><td style=\"text-align: right;\"> 8.9484 </td><td style=\"text-align: right;\">2.11972 </td><td style=\"text-align: right;\">5.66543</td><td style=\"text-align: right;\"> 0.729426</td><td style=\"text-align: right;\"> 6.934   </td><td style=\"text-align: right;\"> 4.79403</td><td style=\"text-align: right;\"> 8.54082</td><td style=\"text-align: right;\"> 6.70553</td><td style=\"text-align: right;\"> 3.26634</td><td style=\"text-align: right;\">12.5888 </td><td style=\"text-align: right;\">8.04258</td><td style=\"text-align: right;\">12.1855 </td><td style=\"text-align: right;\"> 8.24984</td><td style=\"text-align: right;\"> 5.10062</td><td style=\"text-align: right;\"> 2.1818 </td><td style=\"text-align: right;\"> 7.80879 </td><td style=\"text-align: right;\"> 1.17964</td><td style=\"text-align: right;\">14.1508 </td><td style=\"text-align: right;\"> 4.841  </td><td style=\"text-align: right;\"> 8.1779 </td><td style=\"text-align: right;\"> 1.58721</td><td style=\"text-align: right;\"> 5.29769</td><td style=\"text-align: right;\">1.8133 </td><td style=\"text-align: right;\"> 4.70655</td><td style=\"text-align: right;\">4.30226</td><td style=\"text-align: right;\">3.94053 </td><td style=\"text-align: right;\">6.00595</td><td style=\"text-align: right;\"> 5.91446</td><td style=\"text-align: right;\"> 8.29285</td><td style=\"text-align: right;\">10.0824 </td><td style=\"text-align: right;\"> 5.98916</td><td style=\"text-align: right;\">4.4087 </td><td style=\"text-align: right;\">10.4419 </td><td style=\"text-align: right;\"> 5.31133</td></tr>\n",
       "<tr><td><i style='opacity: 0.6'>9</i></td><td style=\"text-align: right;\">           9</td><td style=\"text-align: right;\"> 4.81556</td><td style=\"text-align: right;\"> 7.71162 </td><td style=\"text-align: right;\"> 9.82619</td><td style=\"text-align: right;\"> 8.78351</td><td style=\"text-align: right;\">12.6879 </td><td style=\"text-align: right;\"> 2.8553 </td><td style=\"text-align: right;\">11.8016 </td><td style=\"text-align: right;\"> 5.55858</td><td style=\"text-align: right;\"> 2.91203</td><td style=\"text-align: right;\"> 2.9117 </td><td style=\"text-align: right;\"> 8.4127 </td><td style=\"text-align: right;\">7.01816</td><td style=\"text-align: right;\"> 7.44843</td><td style=\"text-align: right;\"> 7.61596</td><td style=\"text-align: right;\">11.2784 </td><td style=\"text-align: right;\"> 9.6916 </td><td style=\"text-align: right;\"> 8.44137</td><td style=\"text-align: right;\"> 9.24201</td><td style=\"text-align: right;\"> 6.80148</td><td style=\"text-align: right;\">12.1156 </td><td style=\"text-align: right;\">9.07886</td><td style=\"text-align: right;\">8.33896</td><td style=\"text-align: right;\"> 2.80227</td><td style=\"text-align: right;\"> 7.6994 </td><td style=\"text-align: right;\">5.2548 </td><td style=\"text-align: right;\"> 5.12937</td><td style=\"text-align: right;\">13.6231 </td><td style=\"text-align: right;\">3.6981 </td><td style=\"text-align: right;\">10.9425 </td><td style=\"text-align: right;\"> 9.58542</td><td style=\"text-align: right;\"> 3.6425 </td><td style=\"text-align: right;\">10.3906 </td><td style=\"text-align: right;\"> 7.09315 </td><td style=\"text-align: right;\"> 3.61536</td><td style=\"text-align: right;\"> 4.89482</td><td style=\"text-align: right;\"> 2.3864 </td><td style=\"text-align: right;\"> 8.48454</td><td style=\"text-align: right;\"> 2.76137</td><td style=\"text-align: right;\">11.3128 </td><td style=\"text-align: right;\"> 8.2957  </td><td style=\"text-align: right;\">6.30711</td><td style=\"text-align: right;\">8.09134</td><td style=\"text-align: right;\"> 6.07224</td><td style=\"text-align: right;\"> 9.5726  </td><td style=\"text-align: right;\"> 4.69714</td><td style=\"text-align: right;\">3.31232</td><td style=\"text-align: right;\">11.2232 </td><td style=\"text-align: right;\">5.57155 </td><td style=\"text-align: right;\">4.73102</td><td style=\"text-align: right;\"> 6.18363 </td><td style=\"text-align: right;\"> 7.42547 </td><td style=\"text-align: right;\">10.5522 </td><td style=\"text-align: right;\"> 9.06744</td><td style=\"text-align: right;\"> 5.08482</td><td style=\"text-align: right;\"> 2.20863</td><td style=\"text-align: right;\"> 7.39237</td><td style=\"text-align: right;\">8.44183</td><td style=\"text-align: right;\"> 6.6616 </td><td style=\"text-align: right;\"> 8.35439</td><td style=\"text-align: right;\"> 8.25324</td><td style=\"text-align: right;\"> 8.1969 </td><td style=\"text-align: right;\"> 7.4528  </td><td style=\"text-align: right;\"> 3.96958</td><td style=\"text-align: right;\"> 9.00751</td><td style=\"text-align: right;\"> 7.64005</td><td style=\"text-align: right;\"> 5.88254</td><td style=\"text-align: right;\">12.54   </td><td style=\"text-align: right;\">12.3906 </td><td style=\"text-align: right;\">3.64356</td><td style=\"text-align: right;\">10.4281 </td><td style=\"text-align: right;\">5.08372</td><td style=\"text-align: right;\">3.33869 </td><td style=\"text-align: right;\">5.20115</td><td style=\"text-align: right;\"> 4.93015</td><td style=\"text-align: right;\">10.2942 </td><td style=\"text-align: right;\"> 3.60007</td><td style=\"text-align: right;\"> 7.93034</td><td style=\"text-align: right;\">5.27875</td><td style=\"text-align: right;\">10.5822 </td><td style=\"text-align: right;\"> 6.20275</td></tr>\n",
       "</tbody>\n",
       "</table>"
      ],
      "text/plain": [
       "  #    Unnamed: 0        c0         c1        c2        c3        c4        c5        c6        c7        c8        c9       c10      c11       c12       c13       c14       c15       c16       c17       c18       c19      c20      c21       c22       c23      c24       c25       c26      c27       c28       c29       c30       c31        c32       c33       c34       c35       c36       c37       c38        c39      c40      c41       c42        c43       c44      c45       c46       c47      c48        c49        c50       c51       c52       c53       c54       c55      c56       c57       c58       c59       c60        c61       c62       c63       c64       c65       c66       c67      c68       c69      c70       c71      c72       c73       c74       c75       c76      c77       c78       c79\n",
       "  0             0   4.6979    8.77072    6.56435   9.84158   5.75058   7.95298   5.02752   4.49698  10.8781    8.97752   5.05758  9.67977   7.72749  10.7072    7.67609   8.763     6.67839   3.62642   7.3007    8.19756  7.96745  7.38679   6.61808  10.0571   7.09957   6.06199   3.46468  6.54203   5.6668    5.93491   4.79201   7.40095   9.9509     8.96652  12.1515   14.389    12.0348    6.70016  13.3804    7.49172   2.73006  6.26755   8.62473   3.78213    2.49237  4.27662   4.30448  8.83142   7.58712   8.18626    4.43875    5.83439   6.07822   9.8592   11.7502    4.5749   2.75096   4.66408   2.91013   7.02943  12.907     3.11924    1.68638   4.28463   7.30062  11.7568    9.07602  10.7124   7.1692    1.95161  7.24987  6.36384   3.36408  12.6506    7.68318   8.19804   6.88962  2.53267   5.06029  12.2429\n",
       "  1             1   6.59908   2.37651    5.71334   4.81135   9.58743   8.86807   1.47635   4.50266   2.90834  11.6442    9.78297  2.71649   7.21038   7.40628   9.41528   5.17727   4.36291  11.5406    3.21977   0.50321  7.67584  5.40067   7.67552   5.38171  8.69603   6.35798   9.55726  8.86774   5.83114   5.34197   5.71952   8.60017   9.96113   11.0159    8.27675   5.63915   8.99588  10.687     8.09686   6.32467   4.14395  6.89682   4.54613   8.53488    6.32891  6.34476   9.96376  6.71482   5.79853   1.25161    0.620119   9.74425  15.211     7.42856   4.28416   5.81505  6.77672   8.115    10.5529    7.63797  15.3242    2.78256    8.70845  10.0202    4.47588  10.137     9.28744   5.18855  6.86822   3.48239  5.504    7.40915   3.87418   7.90286   5.80181   5.77177  10.0148   6.56707   8.27713   2.34872\n",
       "  2             2  10.1961    7.32316    1.9871   11.0663    9.07852   4.16169  13.2721    7.56355   3.98862   4.42454   7.4881   8.82834   7.84651  -1.92758   6.78529   5.15984   9.35615   4.11863   4.04481   5.90667  5.81679  2.2633    7.6747    3.10445  9.05687   9.63813   9.62977  8.11333  12.3485   10.2738    7.92208   3.89361   5.44442    4.14426   8.55366   1.20554   4.49974   7.20229   8.68831  11.3177    2.62549  4.66199   8.28913   7.12091    4.72193  7.44265   2.86368  0.960148  3.18755   4.5794     6.07098    4.82261   1.90866   9.51391   6.88073  10.5459   3.40952   7.90442   9.97605   5.18844   7.23349   7.97986    5.94342   7.53628   6.08355   9.51557  10.9415    5.49845  6.52266   7.47466  4.55132  1.2194    9.75902   2.24926   5.61778   7.79943   5.00792  5.97845   3.80953   4.75559\n",
       "  3             3   6.35845   5.41787    6.94079   6.60477   8.80072   7.76006   7.57089   3.47122   3.72357   8.99716  10.4039   2.03294   4.72604   6.54639   3.55604  10.599    11.4485    7.29499   4.61114   6.17021  7.15232  6.48894   7.8321   10.8636   9.86036  11.3297    2.61766  1.60379   8.43692   9.45872  13.1422    4.80882   7.83663   10.3719    8.37798  10.562    10.3392    8.07049   5.17745   5.76161   4.99661  9.00598  10.3724    3.71429   10.4212   8.42647   6.95373  6.76215   6.58227   5.95062   10.2335     8.46984   5.38599   6.53009   3.72141  10.3501   7.64833   5.94563   4.4206   -1.46625   5.01044   8.05099    3.66482  12.3659    9.43516   7.85996   4.45623   7.05836  2.7008   10.5023   6.1365   6.6868    8.70043   4.06655   6.99143  11.192     5.30777  8.19363   7.18778   6.79075\n",
       "  4             4   9.96498   3.08717    4.06472   7.94133   5.40701   3.89747   7.79406   3.23897   6.11911   8.68363   8.79612  3.82103  10.4588   12.1271    7.23105   4.35043   5.1808   13.325    11.2482    9.67233  6.85453  8.0465    8.55814   3.30766  3.96267   9.38194   6.76997  8.10372   4.49723   3.33557   8.36631   7.51405   0.013873   2.12721   3.66972  11.265    11.3683    4.76299   3.56155   7.26436   5.48471  6.5198   11.8722    7.32721    3.57977  7.46572   9.78181  9.28941   4.75379   9.60692    3.41846    5.4941   10.5678    6.68442  10.661     2.18922  6.79655   7.12157   8.1398    5.76057   8.75465  11.4573    10.1221    4.41987   4.3306    9.85827   5.83447   7.02891  3.6822    9.88166  4.777    6.7582    3.72462   7.57259   6.00003   9.96147   4.27892  4.94618  10.2624    7.64168\n",
       "  5             5   3.07691   0.358927   9.28529   3.58946  10.9233   14.2967    9.61904   9.59514   8.77175   2.44921  12.271    3.68731   4.5652    7.18352   5.60738  12.006     8.38339   6.23743   5.90837  10.1337   1.46746  4.82788  11.6869    6.9325   3.01256   7.06918  10.1088   6.1089    7.32092   5.27986   8.55854  10.4034    9.54231   10.7907    5.02665   9.34786   5.91981   3.37339   9.79003   6.96417   8.5407   9.54953   2.16053   3.68859    9.73767  9.41812   1.62137  3.3498    7.7373    6.09148    7.17729    7.67269   8.75949   8.53285   7.6558    6.36176  8.09794   6.59429  -0.82551   2.79287   5.4893   12.5616     4.33089  11.4453   10.4313    4.55574   2.76321  12.8314   3.22022  10.6385   3.151    8.10408   4.64825   6.72359   2.73559   4.98404   9.61859  6.83448   8.70534   6.53575\n",
       "  6             6   6.3682   12.4103     4.31188   8.50533   9.57451  11.3777    2.79172   8.70846   6.57582   6.44031   6.27593  9.83455   7.83193   8.55532   6.8464    9.31937   9.67021   5.50178   9.26779  11.8037   4.40755  8.31804   4.77992   8.32215  5.89352   5.05661   6.41998  6.04493   6.98831  13.7729    7.41665   7.38457  11.5537     7.95422  15.0849    7.52834   5.08423   8.31154   9.45563   4.40357   7.21451  2.50856   9.91472   7.21526    7.40894  6.31175   1.90908  8.34949   6.3178    9.92856    5.5536    10.3421    7.09488   7.66118  12.9266    5.99292  8.45774   8.41848   4.08902   5.31165   7.28636  -0.239791   6.51915   4.11482   7.99895   5.83939   3.64025   5.40179  7.38992   4.35029  3.36262  0.103178  5.29175   9.80855  13.0955    6.13159   8.00066  6.54863  10.8434    5.84473\n",
       "  7             7   8.13419   2.67598   10.8293    6.81549   5.13078   4.25317   1.67614   8.55641   9.85188   8.94467   6.16509  2.85319   3.17211   5.95084   7.26854   5.49223   5.84238   9.08815   3.54663  12.4497   8.39707  9.22626  15.3023    5.70801  4.53031   8.48937   6.53395  8.10353  10.1113    3.41636   3.25673   2.81499   4.15967    6.43455   2.35261   8.34821   6.41872   4.4769    4.2921    6.75712   3.79004  2.86562   9.9049    8.07705    9.20754  3.49653   7.2219   3.1573    4.20776  12.2043     8.08477   13.0422    6.10429  10.8695    8.21643  10.0704   7.1707    7.25076   5.35442   9.66644   9.2841    5.63844    9.81064   6.01187   6.84053   5.69747   8.1094    4.79313  4.28824   9.28183  2.10048  6.97253   6.89694   6.01403   7.68121   8.83214   7.30448  5.07683   4.98039   9.29381\n",
       "  8             8  12.1557    9.10579    1.22737   8.41196   5.07496   9.04193   2.56227  10.5025    6.49927   6.03708   5.81432  8.04375   7.07391   3.65293   4.8348    5.12927   4.36639   8.55529   5.67466   8.91621  7.46412  5.31952   8.40959  10.0851   8.41742   6.03727   6.58574  8.41927   3.77151   4.28227   6.3752   12.0156    9.89449    3.04907   9.97882   5.13959   1.47506   5.85405   6.8406    0.207416  6.79733  6.73097   3.53157  -0.273723   8.4461   5.72907   8.9484   2.11972   5.66543   0.729426   6.934      4.79403   8.54082   6.70553   3.26634  12.5888   8.04258  12.1855    8.24984   5.10062   2.1818    7.80879    1.17964  14.1508    4.841     8.1779    1.58721   5.29769  1.8133    4.70655  4.30226  3.94053   6.00595   5.91446   8.29285  10.0824    5.98916  4.4087   10.4419    5.31133\n",
       "  9             9   4.81556   7.71162    9.82619   8.78351  12.6879    2.8553   11.8016    5.55858   2.91203   2.9117    8.4127   7.01816   7.44843   7.61596  11.2784    9.6916    8.44137   9.24201   6.80148  12.1156   9.07886  8.33896   2.80227   7.6994   5.2548    5.12937  13.6231   3.6981   10.9425    9.58542   3.6425   10.3906    7.09315    3.61536   4.89482   2.3864    8.48454   2.76137  11.3128    8.2957    6.30711  8.09134   6.07224   9.5726     4.69714  3.31232  11.2232   5.57155   4.73102   6.18363    7.42547   10.5522    9.06744   5.08482   2.20863   7.39237  8.44183   6.6616    8.35439   8.25324   8.1969    7.4528     3.96958   9.00751   7.64005   5.88254  12.54     12.3906   3.64356  10.4281   5.08372  3.33869   5.20115   4.93015  10.2942    3.60007   7.93034  5.27875  10.5822    6.20275"
      ]
     },
     "execution_count": 3,
     "metadata": {},
     "output_type": "execute_result"
    }
   ],
   "source": [
    "print(vaex_df.shape)\n",
    "vaex_df.head()"
   ]
  },
  {
   "cell_type": "code",
   "execution_count": 4,
   "id": "d2d35872",
   "metadata": {},
   "outputs": [
    {
     "name": "stdout",
     "output_type": "stream",
     "text": [
      "CPU times: user 318 ms, sys: 117 ms, total: 435 ms\n",
      "Wall time: 104 ms\n"
     ]
    },
    {
     "data": {
      "text/plain": [
       "array([ 14444,  16293,  18128,  20569,  23087,  25892,  28132,  31698,\n",
       "        34899,  38218,  42119,  45969,  50892,  55274,  59591,  65135,\n",
       "        70562,  75464,  81426,  87345,  93139,  99572, 105744, 112235,\n",
       "       118741, 125613, 132516, 138117, 145292, 150689, 157786, 163287,\n",
       "       169613, 175065, 180046, 184626, 188727, 193412, 197085, 199529,\n",
       "       202657, 204469, 206756, 207066, 207237, 207531, 206214, 206314,\n",
       "       203668, 202019, 199043, 195607, 192037, 187308, 181870, 177877,\n",
       "       172976, 167149, 161621, 154175, 148325, 142799, 135295, 128716])"
      ]
     },
     "execution_count": 4,
     "metadata": {},
     "output_type": "execute_result"
    }
   ],
   "source": [
    "%%time\n",
    "\n",
    "vaex_df.mean(vaex_df.c1), vaex_df.count()\n",
    "counts_x = vaex_df.count(binby=vaex_df.c5, limits=[0, 10], shape=64)\n",
    "counts_x"
   ]
  },
  {
   "cell_type": "markdown",
   "id": "59ec49c4",
   "metadata": {},
   "source": [
    "### Virtual columns"
   ]
  },
  {
   "cell_type": "code",
   "execution_count": 7,
   "id": "266c6e31",
   "metadata": {},
   "outputs": [
    {
     "name": "stdout",
     "output_type": "stream",
     "text": [
      "CPU times: user 2.83 ms, sys: 5.55 ms, total: 8.38 ms\n",
      "Wall time: 7.38 ms\n",
      "CPU times: user 575 ms, sys: 901 ms, total: 1.48 s\n",
      "Wall time: 342 ms\n"
     ]
    }
   ],
   "source": [
    "# evaluated lazily as result of expression lives within df it was defined in\n",
    "%time vaex_df['r'] = (vaex_df['c1']**2 + vaex_df['c2']**2)**0.5\n",
    "# pandas \n",
    "%time pd_df['r'] = (pd_df['c1']**2 + pd_df['c2']**2)**0.5"
   ]
  },
  {
   "cell_type": "code",
   "execution_count": 61,
   "id": "fbacd639",
   "metadata": {},
   "outputs": [
    {
     "name": "stdout",
     "output_type": "stream",
     "text": [
      "CPU times: user 6 µs, sys: 1e+03 ns, total: 7 µs\n",
      "Wall time: 11.7 µs\n"
     ]
    },
    {
     "data": {
      "text/plain": [
       "Expression = r\n",
       "Length: 10,000,000 dtype: float64 (column)\n",
       "------------------------------------------\n",
       "      0  10.9552\n",
       "      1  6.18789\n",
       "      2  7.58797\n",
       "      3  8.80499\n",
       "      4  5.10417\n",
       "      ...       \n",
       "9999995  12.4254\n",
       "9999996  9.39503\n",
       "9999997  12.6433\n",
       "9999998  11.8978\n",
       "9999999   16.339"
      ]
     },
     "execution_count": 61,
     "metadata": {},
     "output_type": "execute_result"
    }
   ],
   "source": [
    "%%time\n",
    "vaex_df.r"
   ]
  },
  {
   "cell_type": "code",
   "execution_count": 9,
   "id": "e2ffef99",
   "metadata": {},
   "outputs": [
    {
     "name": "stdout",
     "output_type": "stream",
     "text": [
      "CPU times: user 260 ms, sys: 184 ms, total: 444 ms\n",
      "Wall time: 212 ms\n",
      "CPU times: user 18.6 ms, sys: 3.41 ms, total: 22 ms\n",
      "Wall time: 21.7 ms\n"
     ]
    }
   ],
   "source": [
    "# calculated eagerly as operation will live \"outside\" of the DataFrame from which it was defined\n",
    "\n",
    "%time mean_r = vaex_df.r.mean()\n",
    "%time mean_r = pd_df['r'].mean()"
   ]
  },
  {
   "cell_type": "markdown",
   "id": "dd7653b4",
   "metadata": {},
   "source": [
    "### Plotting"
   ]
  },
  {
   "cell_type": "code",
   "execution_count": 10,
   "id": "726f3687",
   "metadata": {},
   "outputs": [
    {
     "data": {
      "application/vnd.jupyter.widget-view+json": {
       "model_id": "20cbed4709424ef3b954daac195c58fe",
       "version_major": 2,
       "version_minor": 0
      },
      "text/plain": [
       "HBox(children=(FloatProgress(value=0.0, max=1.0), Label(value='In progress...')))"
      ]
     },
     "metadata": {},
     "output_type": "display_data"
    },
    {
     "name": "stdout",
     "output_type": "stream",
     "text": [
      "CPU times: user 654 ms, sys: 240 ms, total: 893 ms\n",
      "Wall time: 716 ms\n"
     ]
    },
    {
     "data": {
      "text/plain": [
       "<matplotlib.collections.PathCollection at 0x7fa8f43a0760>"
      ]
     },
     "execution_count": 10,
     "metadata": {},
     "output_type": "execute_result"
    },
    {
     "data": {
      "image/png": "[encoded data removed]",
      "text/plain": [
       "<Figure size 432x288 with 1 Axes>"
      ]
     },
     "metadata": {
      "needs_background": "light"
     },
     "output_type": "display_data"
    },
    {
     "data": {
      "image/png": "[encoded data removed]",
      "text/plain": [
       "<Figure size 432x288 with 1 Axes>"
      ]
     },
     "metadata": {
      "needs_background": "light"
     },
     "output_type": "display_data"
    }
   ],
   "source": [
    "%%time\n",
    "\n",
    "plt.figure()\n",
    "vaex_df.viz.histogram(vaex_df.c1, progress='widget');\n",
    "\n",
    "plt.figure()\n",
    "\n",
    "x = vaex_df.evaluate(\"c5\", selection=vaex_df.c10 < 7)\n",
    "y = vaex_df.evaluate(\"c7\", selection=vaex_df.c10 < 7)\n",
    "plt.scatter(x, y, c=\"red\", alpha=0.5, s=4);"
   ]
  },
  {
   "cell_type": "markdown",
   "id": "92048e51",
   "metadata": {},
   "source": [
    "### Vaex df from numpy array and Joins"
   ]
  },
  {
   "cell_type": "code",
   "execution_count": 62,
   "id": "5fcb4e55",
   "metadata": {},
   "outputs": [
    {
     "name": "stdout",
     "output_type": "stream",
     "text": [
      "CPU times: user 3 µs, sys: 2 µs, total: 5 µs\n",
      "Wall time: 7.87 µs\n"
     ]
    },
    {
     "data": {
      "text/html": [
       "<table>\n",
       "<thead>\n",
       "<tr><th>#                             </th><th>a                 </th><th>b                 </th></tr>\n",
       "</thead>\n",
       "<tbody>\n",
       "<tr><td><i style='opacity: 0.6'>0</i> </td><td>4.697903634833819 </td><td>8.770723182672354 </td></tr>\n",
       "<tr><td><i style='opacity: 0.6'>1</i> </td><td>6.599075841946298 </td><td>2.376512798120376 </td></tr>\n",
       "<tr><td><i style='opacity: 0.6'>2</i> </td><td>10.19610172651946 </td><td>7.3231601727152755</td></tr>\n",
       "<tr><td><i style='opacity: 0.6'>3</i> </td><td>6.358447075878876 </td><td>5.417873214262979 </td></tr>\n",
       "<tr><td><i style='opacity: 0.6'>4</i> </td><td>9.964984043272402 </td><td>3.087173395324161 </td></tr>\n",
       "<tr><td>...                           </td><td>...               </td><td>...               </td></tr>\n",
       "<tr><td><i style='opacity: 0.6'>95</i></td><td>10.687075017318874</td><td>5.899908897491862 </td></tr>\n",
       "<tr><td><i style='opacity: 0.6'>96</i></td><td>0.0853225948795222</td><td>4.150184254902616 </td></tr>\n",
       "<tr><td><i style='opacity: 0.6'>97</i></td><td>15.190442894510925</td><td>3.0265394639245464</td></tr>\n",
       "<tr><td><i style='opacity: 0.6'>98</i></td><td>6.407923787205217 </td><td>5.285320459990462 </td></tr>\n",
       "<tr><td><i style='opacity: 0.6'>99</i></td><td>6.950749484382435 </td><td>2.3364436680438203</td></tr>\n",
       "</tbody>\n",
       "</table>"
      ],
      "text/plain": [
       "#    a                   b\n",
       "0    4.697903634833819   8.770723182672354\n",
       "1    6.599075841946298   2.376512798120376\n",
       "2    10.19610172651946   7.3231601727152755\n",
       "3    6.358447075878876   5.417873214262979\n",
       "4    9.964984043272402   3.087173395324161\n",
       "...  ...                 ...\n",
       "95   10.687075017318874  5.899908897491862\n",
       "96   0.0853225948795222  4.150184254902616\n",
       "97   15.190442894510925  3.0265394639245464\n",
       "98   6.407923787205217   5.285320459990462\n",
       "99   6.950749484382435   2.3364436680438203"
      ]
     },
     "execution_count": 62,
     "metadata": {},
     "output_type": "execute_result"
    }
   ],
   "source": [
    "%time\n",
    "a = pd_df.iloc[0:100, 1].values\n",
    "b = pd_df.iloc[0:100, 2].values\n",
    "df1 = vaex.from_arrays(a=a, b=b)\n",
    "df1"
   ]
  },
  {
   "cell_type": "code",
   "execution_count": 63,
   "id": "46d8d7d0",
   "metadata": {},
   "outputs": [
    {
     "name": "stdout",
     "output_type": "stream",
     "text": [
      "CPU times: user 1.1 ms, sys: 222 µs, total: 1.32 ms\n",
      "Wall time: 1.22 ms\n"
     ]
    },
    {
     "data": {
      "text/html": [
       "<table>\n",
       "<thead>\n",
       "<tr><th>#                             </th><th>b                 </th><th>c                 </th><th>d                   </th></tr>\n",
       "</thead>\n",
       "<tbody>\n",
       "<tr><td><i style='opacity: 0.6'>0</i> </td><td>8.770723182672354 </td><td>6.56434917140596  </td><td>22.070298562184803  </td></tr>\n",
       "<tr><td><i style='opacity: 0.6'>1</i> </td><td>2.376512798120376 </td><td>5.713337077204002 </td><td>43.547801967759234  </td></tr>\n",
       "<tr><td><i style='opacity: 0.6'>2</i> </td><td>7.3231601727152755</td><td>1.9870961686307265</td><td>103.96049041753312  </td></tr>\n",
       "<tr><td><i style='opacity: 0.6'>3</i> </td><td>5.417873214262979 </td><td>6.940789263112561 </td><td>40.42984921675262   </td></tr>\n",
       "<tr><td><i style='opacity: 0.6'>4</i> </td><td>3.087173395324161 </td><td>4.064719000556583 </td><td>99.30090698267358   </td></tr>\n",
       "<tr><td>...                           </td><td>...               </td><td>...               </td><td>...                 </td></tr>\n",
       "<tr><td><i style='opacity: 0.6'>95</i></td><td>5.899908897491862 </td><td>6.4528463171451165</td><td>114.2135724258012   </td></tr>\n",
       "<tr><td><i style='opacity: 0.6'>96</i></td><td>4.150184254902616 </td><td>13.077720206168298</td><td>0.007279945196975069</td></tr>\n",
       "<tr><td><i style='opacity: 0.6'>97</i></td><td>3.0265394639245464</td><td>3.378496577159145 </td><td>230.74955533139746  </td></tr>\n",
       "<tr><td><i style='opacity: 0.6'>98</i></td><td>5.285320459990462 </td><td>7.634394718112023 </td><td>41.06148726263045   </td></tr>\n",
       "<tr><td><i style='opacity: 0.6'>99</i></td><td>2.3364436680438203</td><td>5.5746093436187465</td><td>48.31291839464268   </td></tr>\n",
       "</tbody>\n",
       "</table>"
      ],
      "text/plain": [
       "#    b                   c                   d\n",
       "0    8.770723182672354   6.56434917140596    22.070298562184803\n",
       "1    2.376512798120376   5.713337077204002   43.547801967759234\n",
       "2    7.3231601727152755  1.9870961686307265  103.96049041753312\n",
       "3    5.417873214262979   6.940789263112561   40.42984921675262\n",
       "4    3.087173395324161   4.064719000556583   99.30090698267358\n",
       "...  ...                 ...                 ...\n",
       "95   5.899908897491862   6.4528463171451165  114.2135724258012\n",
       "96   4.150184254902616   13.077720206168298  0.007279945196975069\n",
       "97   3.0265394639245464  3.378496577159145   230.74955533139746\n",
       "98   5.285320459990462   7.634394718112023   41.06148726263045\n",
       "99   2.3364436680438203  5.5746093436187465  48.31291839464268"
      ]
     },
     "execution_count": 63,
     "metadata": {},
     "output_type": "execute_result"
    }
   ],
   "source": [
    "%%time\n",
    "c = pd_df.iloc[0:100, 3].values\n",
    "d = a**2\n",
    "df2 = vaex.from_arrays(b=b, c=c, d=d)\n",
    "df2"
   ]
  },
  {
   "cell_type": "code",
   "execution_count": 43,
   "id": "49d26c08",
   "metadata": {},
   "outputs": [
    {
     "name": "stdout",
     "output_type": "stream",
     "text": [
      "CPU times: user 7.28 ms, sys: 3.58 ms, total: 10.9 ms\n",
      "Wall time: 8.68 ms\n"
     ]
    },
    {
     "data": {
      "text/html": [
       "<table>\n",
       "<thead>\n",
       "<tr><th>#                             </th><th>a                 </th><th>b                 </th><th>c                 </th><th>d                   </th></tr>\n",
       "</thead>\n",
       "<tbody>\n",
       "<tr><td><i style='opacity: 0.6'>0</i> </td><td>4.697903634833819 </td><td>8.770723182672354 </td><td>6.56434917140596  </td><td>22.070298562184803  </td></tr>\n",
       "<tr><td><i style='opacity: 0.6'>1</i> </td><td>6.599075841946298 </td><td>2.376512798120376 </td><td>5.713337077204002 </td><td>43.547801967759234  </td></tr>\n",
       "<tr><td><i style='opacity: 0.6'>2</i> </td><td>10.19610172651946 </td><td>7.3231601727152755</td><td>1.9870961686307265</td><td>103.96049041753312  </td></tr>\n",
       "<tr><td><i style='opacity: 0.6'>3</i> </td><td>6.358447075878876 </td><td>5.417873214262979 </td><td>6.940789263112561 </td><td>40.42984921675262   </td></tr>\n",
       "<tr><td><i style='opacity: 0.6'>4</i> </td><td>9.964984043272402 </td><td>3.087173395324161 </td><td>4.064719000556583 </td><td>99.30090698267358   </td></tr>\n",
       "<tr><td>...                           </td><td>...               </td><td>...               </td><td>...               </td><td>...                 </td></tr>\n",
       "<tr><td><i style='opacity: 0.6'>95</i></td><td>10.687075017318874</td><td>5.899908897491862 </td><td>6.4528463171451165</td><td>114.2135724258012   </td></tr>\n",
       "<tr><td><i style='opacity: 0.6'>96</i></td><td>0.0853225948795222</td><td>4.150184254902616 </td><td>13.077720206168298</td><td>0.007279945196975069</td></tr>\n",
       "<tr><td><i style='opacity: 0.6'>97</i></td><td>15.190442894510925</td><td>3.0265394639245464</td><td>3.378496577159145 </td><td>230.74955533139746  </td></tr>\n",
       "<tr><td><i style='opacity: 0.6'>98</i></td><td>6.407923787205217 </td><td>5.285320459990462 </td><td>7.634394718112023 </td><td>41.06148726263045   </td></tr>\n",
       "<tr><td><i style='opacity: 0.6'>99</i></td><td>6.950749484382435 </td><td>2.3364436680438203</td><td>5.5746093436187465</td><td>48.31291839464268   </td></tr>\n",
       "</tbody>\n",
       "</table>"
      ],
      "text/plain": [
       "#    a                   b                   c                   d\n",
       "0    4.697903634833819   8.770723182672354   6.56434917140596    22.070298562184803\n",
       "1    6.599075841946298   2.376512798120376   5.713337077204002   43.547801967759234\n",
       "2    10.19610172651946   7.3231601727152755  1.9870961686307265  103.96049041753312\n",
       "3    6.358447075878876   5.417873214262979   6.940789263112561   40.42984921675262\n",
       "4    9.964984043272402   3.087173395324161   4.064719000556583   99.30090698267358\n",
       "...  ...                 ...                 ...                 ...\n",
       "95   10.687075017318874  5.899908897491862   6.4528463171451165  114.2135724258012\n",
       "96   0.0853225948795222  4.150184254902616   13.077720206168298  0.007279945196975069\n",
       "97   15.190442894510925  3.0265394639245464  3.378496577159145   230.74955533139746\n",
       "98   6.407923787205217   5.285320459990462   7.634394718112023   41.06148726263045\n",
       "99   6.950749484382435   2.3364436680438203  5.5746093436187465  48.31291839464268"
      ]
     },
     "execution_count": 43,
     "metadata": {},
     "output_type": "execute_result"
    }
   ],
   "source": [
    "%%time\n",
    "\n",
    "df1.join(df2, left_on='b', right_on='b', how='inner')"
   ]
  },
  {
   "cell_type": "markdown",
   "id": "12693ef8",
   "metadata": {},
   "source": [
    "### can also stack multiple array in single expression columnn"
   ]
  },
  {
   "cell_type": "code",
   "execution_count": 54,
   "id": "c2d389f9",
   "metadata": {},
   "outputs": [
    {
     "data": {
      "text/plain": [
       "Expression = a\n",
       "Length: 100 dtype: float64 (column)\n",
       "-----------------------------------\n",
       " 0  'array([ 7.49171789,  2.73005933,  6.26755135,  ...\n",
       " 1  'array([ 6.32466747,  4.14394951,  6.89682365,  ...\n",
       " 2  'array([11.31766846,  2.62548598,  4.66198726,  ...\n",
       " 3  'array([ 5.76161359,  4.99660724,  9.00597814, 1...\n",
       " 4  'array([ 7.26436154,  5.48470581,  6.51979827, 1...\n",
       "                          ...                          \n",
       "95  'array([9.75299527, 5.10006965, 4.43652762, 7.56...\n",
       "96  'array([ 6.89465151,  6.57352273,  6.95547967,  ...\n",
       "97  'array([ 5.06106956,  3.26028477,  6.01422318, 1...\n",
       "98  'array([11.49483579,  9.49043332,  7.57578348,  ...\n",
       "99  'array([ 7.84089786,  7.58273643,  6.76180734, 1..."
      ]
     },
     "execution_count": 54,
     "metadata": {},
     "output_type": "execute_result"
    }
   ],
   "source": [
    "a = pd_df.iloc[0:100, 40:80].values\n",
    "df1 = vaex.from_arrays(a=a)\n",
    "df1.a"
   ]
  },
  {
   "cell_type": "code",
   "execution_count": 58,
   "id": "da3e1056",
   "metadata": {},
   "outputs": [
    {
     "data": {
      "text/plain": [
       "array([ 7.49171789,  2.73005933,  6.26755135,  8.6247272 ,  3.78213376,\n",
       "        2.49236826,  4.2766211 ,  4.3044821 ,  8.83141713,  7.58711851,\n",
       "        8.18626243,  4.43875094,  5.83439432,  6.07822489,  9.85920333,\n",
       "       11.75019223,  4.5749027 ,  2.7509577 ,  4.66408069,  2.91012957,\n",
       "        7.02942719, 12.90703821,  3.11924208,  1.68638067,  4.28463337,\n",
       "        7.30061918, 11.75684228,  9.07601763, 10.71243326,  7.16919674,\n",
       "        1.95160942,  7.24986515,  6.36383867,  3.36407904, 12.65064451,\n",
       "        7.683175  ,  8.19804131,  6.88961548,  2.53266765,  5.06029333])"
      ]
     },
     "execution_count": 58,
     "metadata": {},
     "output_type": "execute_result"
    }
   ],
   "source": [
    "df1.a.values[0]"
   ]
  }
 ],
 "metadata": {
  "kernelspec": {
   "display_name": "Python (dist)",
   "language": "python",
   "name": "dist"
  },
  "language_info": {
   "codemirror_mode": {
    "name": "ipython",
    "version": 3
   },
   "file_extension": ".py",
   "mimetype": "text/x-python",
   "name": "python",
   "nbconvert_exporter": "python",
   "pygments_lexer": "ipython3",
   "version": "3.9.6"
  }
 },
 "nbformat": 4,
 "nbformat_minor": 5
}
